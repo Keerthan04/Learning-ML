{
 "cells": [
  {
   "cell_type": "markdown",
   "id": "4ca7577b",
   "metadata": {},
   "source": [
    "# Decision Trees-can be used for multiclass classifier"
   ]
  },
  {
   "cell_type": "raw",
   "id": "ed45520b",
   "metadata": {},
   "source": [
    "Decision trees are machine learning models that try to find patterns in the features of data points. Take a look at the tree on this page. This tree tries to predict whether a student will get an A on their next test.\n",
    "\n",
    "By asking questions like “What is the student’s average grade in the class” the decision tree tries to get a better understanding of their chances on the next test.\n",
    "\n",
    "In order to make a classification, this classifier needs a data point with four features:\n",
    "\n",
    "The student’s average grade in the class.\n",
    "The number of hours the student plans on studying for the test.\n",
    "The number of hours the student plans on sleeping the night before the test.\n",
    "Whether or not the student plans on cheating.\n",
    "For example, let’s say that somebody has a “B” average in the class, studied for more than 3 hours, slept less than 5 hours before the test, and doesn’t plan to cheat. If we start at the top of the tree and take the correct path based on that data, we’ll arrive at a leaf node that predicts the person will not get an A on the next test."
   ]
  },
  {
   "cell_type": "markdown",
   "id": "a8578751",
   "metadata": {},
   "source": [
    "## Making Decision Trees"
   ]
  },
  {
   "cell_type": "raw",
   "id": "46028eed",
   "metadata": {},
   "source": [
    "Making Decision Trees\n",
    "If we’re given this magic tree, it seems relatively easy to make classifications. But how do these trees get created in the first place? Decision trees are supervised machine learning models, which means that they’re created from a training set of labeled data. Creating the tree is where the learning in machine learning happens.\n",
    "\n",
    "Take a look at the gif on this page. We begin with every point in the training set at the top of the tree. These training points have labels — the red points represent students that didn’t get an A on a test and the green points represent students that did get an A on a test .\n",
    "\n",
    "We then decide to split the data into smaller groups based on a feature. For example, that feature could be something like their average grade in the class. Students with an A average would go into one set, students with a B average would go into another subset, and so on.\n",
    "\n",
    "Once we have these subsets, we repeat the process — we split the data in each subset again on a different feature.\n",
    "\n",
    "Eventually, we reach a point where we decide to stop splitting the data into smaller groups. We’ve reached a leaf of the tree. We can now count up the labels of the data in that leaf. If an unlabeled point reaches that leaf, it will be classified as the majority label.\n",
    "\n",
    "We can now make a tree, but how did we know which features to split the data set with? After all, if we started by splitting the data based on the number of hours they slept the night before the test, we’d end up with a very different tree that would produce very different results. How do we know which tree is best? We’ll tackle this question soon!"
   ]
  },
  {
   "cell_type": "markdown",
   "id": "ccc529d6",
   "metadata": {},
   "source": [
    "## Cars-Practice"
   ]
  },
  {
   "cell_type": "raw",
   "id": "adba0bbb",
   "metadata": {},
   "source": [
    "Cars\n",
    "In this lesson, we’ll create a decision tree build off of a dataset about cars. When considering buying a car, what factors go into making that decision?\n",
    "\n",
    "Each car can fall into four different classes which represent how satisfied someone would be with purchasing the car — unacc (unacceptable), acc (acceptable), good, vgood.\n",
    "\n",
    "Each car has 6 features:\n",
    "\n",
    "The price of the car which can be \"vhigh\", \"high\", \"med\", or \"low\".\n",
    "The cost of maintaining the car which can be \"vhigh\", \"high\", \"med\", or \"low\".\n",
    "The number of doors which can be \"2\", \"3\", \"4\", \"5more\".\n",
    "The number of people the car can hold which can be \"2\", \"4\", or \"more\".\n",
    "The size of the trunk which can be \"small\", \"med\", or \"big\".\n",
    "The safety rating of the car which can be \"low\", \"med\", or \"high\".\n",
    "We’ve imported a dataset of cars behind the scenes and created a decision tree using that data. In this lesson, you’ll learn how to build that tree yourself, but for now, let’s see what the tree can do!"
   ]
  },
  {
   "cell_type": "code",
   "execution_count": null,
   "id": "b68dfbde",
   "metadata": {},
   "outputs": [],
   "source": [
    "from tree import tree, classify\n",
    "car=[\"low\",\"med\",\"4\",\"more\",\"med\",\"high\"]\n",
    "print(classify(car,tree))#output is vgood\n",
    "#already build decision tree on cars just showing that if th features how tree predicts"
   ]
  },
  {
   "cell_type": "markdown",
   "id": "9502d1f0",
   "metadata": {},
   "source": [
    "## Gini Impurity"
   ]
  },
  {
   "cell_type": "raw",
   "id": "8c6c577e",
   "metadata": {},
   "source": [
    "Gini Impurity\n",
    "Consider the two trees below. Which tree would be more useful as a model that tries to predict whether someone would get an A in a class?\n",
    "\n",
    "A tree where the leaf nodes have different types of classificationA tree where the leaf nodes have only one type of classification\n",
    "Let’s say you use the top tree. You’ll end up at a leaf node where the label is up for debate. The training data has labels from both classes! If you use the bottom tree, you’ll end up at a leaf where there’s only one type of label. There’s no debate at all! We’d be much more confident about our classification if we used the bottom tree.\n",
    "\n",
    "This idea can be quantified by calculating the Gini impurity of a set of data points. To find the Gini impurity, start at 1 and subtract the squared percentage of each label in the set. For example, if a data set had three items of class A and one item of class B, the Gini impurity of the set would be\n",
    "\n",
    "    impurity=1-(3/4)**2-(1/4)**2 somewhat like prob we minus\n",
    "    =0.375\n",
    "If a data set has only one class, you’d end up with a Gini impurity of 0. The lower the impurity, the better the decision tree!"
   ]
  },
  {
   "cell_type": "code",
   "execution_count": 2,
   "id": "6bc4f634",
   "metadata": {},
   "outputs": [
    {
     "name": "stdout",
     "output_type": "stream",
     "text": [
      "0.6666666666666665\n"
     ]
    }
   ],
   "source": [
    "#manual implementation of Gini Impurity\n",
    "from collections import Counter\n",
    "\n",
    "labels = [\"unacc\", \"unacc\", \"acc\", \"acc\", \"good\", \"good\"]\n",
    "#labels = [\"unacc\",\"unacc\",\"unacc\", \"good\", \"vgood\", \"vgood\"]\n",
    "#labels = [\"unacc\", \"unacc\", \"unacc\", \"unacc\", \"unacc\", \"unacc\"]\n",
    "\n",
    "impurity = 1\n",
    "label_counts = Counter(labels)#function gives count of labels as dictionary\n",
    "for label in label_counts:\n",
    "  probability_of_label = label_counts[label]/len(labels)#since dictionary label are keys so each value is divided by total(prob) then squared and subtracted from 1\n",
    "  impurity -= probability_of_label ** 2\n",
    "  \n",
    "print(impurity)"
   ]
  },
  {
   "cell_type": "code",
   "execution_count": 1,
   "id": "d9c43784",
   "metadata": {},
   "outputs": [],
   "source": [
    "#Function to calculate Gini Impurity\n",
    "def gini(dataset):\n",
    "  impurity = 1\n",
    "  label_counts = Counter(dataset)#dataset means like all th value it has(the node) then we count each then find prob and then subtracted\n",
    "  for label in label_counts:\n",
    "    prob_of_label = label_counts[label] / len(dataset)\n",
    "    impurity -= prob_of_label ** 2\n",
    "  return impurity"
   ]
  },
  {
   "cell_type": "markdown",
   "id": "b39bbe38",
   "metadata": {},
   "source": [
    "### Information Gain"
   ]
  },
  {
   "cell_type": "raw",
   "id": "184873d1",
   "metadata": {},
   "source": [
    "Information Gain\n",
    "We know that we want to end up with leaves with a low Gini Impurity, but we still need to figure out which features to split on in order to achieve this. For example, is it better if we split our dataset of students based on how much sleep they got or how much time they spent studying?\n",
    "\n",
    "To answer this question, we can calculate the information gain of splitting the data on a certain feature. Information gain measures difference in the impurity of the data before and after the split. For example, let’s say you had a dataset with an impurity of 0.5. After splitting the data based on a feature, you end up with three groups with impurities 0, 0.375, and 0. The information gain of splitting the data in that way is 0.5 - 0 - 0.375 - 0 = 0.125.\n",
    "\n",
    "\n",
    "Not bad! By splitting the data in that way, we’ve gained some information about how the data is structured — the datasets after the split are purer than they were before the split. The higher the information gain the better — if information gain is 0, then splitting the data on that feature was useless! Unfortunately, right now it’s possible for information gain to be negative. In the next exercise, we’ll calculate weighted information gain to fix that problem."
   ]
  },
  {
   "cell_type": "code",
   "execution_count": 3,
   "id": "fabadbc4",
   "metadata": {},
   "outputs": [
    {
     "name": "stdout",
     "output_type": "stream",
     "text": [
      "0.14522609394404257\n",
      "0.15905325443786977\n"
     ]
    }
   ],
   "source": [
    "#use of information gain\n",
    "from collections import Counter\n",
    "\n",
    "unsplit_labels = [\"unacc\", \"unacc\", \"unacc\", \"unacc\", \"unacc\", \"unacc\", \"good\", \"good\", \"good\", \"good\", \"vgood\", \"vgood\", \"vgood\"]\n",
    "\n",
    "split_labels_1 = [\n",
    "  [\"unacc\", \"unacc\", \"unacc\", \"unacc\", \"unacc\", \"unacc\", \"good\", \"good\", \"vgood\"], \n",
    "  [ \"good\", \"good\"], \n",
    "  [\"vgood\", \"vgood\"]\n",
    "]\n",
    "\n",
    "split_labels_2 = [\n",
    "  [\"unacc\", \"unacc\", \"unacc\", \"unacc\",\"unacc\", \"unacc\", \"good\", \"good\", \"good\", \"good\"], \n",
    "  [\"vgood\", \"vgood\", \"vgood\"]\n",
    "]\n",
    "\n",
    "def gini(dataset):\n",
    "  impurity = 1\n",
    "  label_counts = Counter(dataset)\n",
    "  for label in label_counts:\n",
    "    prob_of_label = label_counts[label] / len(dataset)\n",
    "    impurity -= prob_of_label ** 2\n",
    "  return impurity\n",
    "\n",
    "info_gain=gini(unsplit_labels)\n",
    "for i in split_labels_1:\n",
    "  info_gain-=gini(i)\n",
    "print(info_gain)\n",
    "info_gain=gini(unsplit_labels)\n",
    "for i in split_labels_2:\n",
    "  info_gain-=gini(i)\n",
    "print(info_gain)\n",
    "#need to see that high info gain means(of unsplit_labels) - (gini of split) so when we split all has less gini means good info gain"
   ]
  },
  {
   "cell_type": "code",
   "execution_count": 4,
   "id": "40b4498b",
   "metadata": {},
   "outputs": [],
   "source": [
    "#for normal info gain\n",
    "def information_gain(starting_labels, split_labels):\n",
    "  info_gain = gini(starting_labels)\n",
    "  for subset in split_labels:\n",
    "    info_gain -= gini(subset)\n",
    "  return info_gain"
   ]
  },
  {
   "cell_type": "markdown",
   "id": "9a9f7b88",
   "metadata": {},
   "source": [
    "## Weighted Information Gain"
   ]
  },
  {
   "cell_type": "raw",
   "id": "37ecf44a",
   "metadata": {},
   "source": [
    "Weighted Information Gain(size of the subset is also imp)\n",
    "We’re not quite done calculating the information gain of a set of objects. The sizes of the subset that get created after the split are important too! For example, the image below shows two sets with the same impurity. Which set would you rather have in your decision tree?\n",
    "\n",
    "\n",
    "Both of these sets are perfectly pure, but the purity of the second set is much more meaningful. Because there are so many items in the second set, we can be confident that whatever we did to produce this set wasn’t an accident.\n",
    "\n",
    "It might be helpful to think about the inverse as well. Consider these two sets with the same impurity:\n",
    "\n",
    "\n",
    "Both of these sets are completely impure. However, that impurity is much more meaningful in the set with more instances. We know that we are going to have to do a lot more work in order to completely separate the two classes. Meanwhile, the impurity of the set with two items isn’t as important. We know that we’ll only need to split the set one more time in order to make two pure sets.\n",
    "\n",
    "Let’s modify the formula for information gain to reflect the fact that the size of the set is relevant. Instead of simply subtracting the impurity of each set, we’ll subtract the weighted impurity of each of the split sets. If the data before the split contained 20 items and one of the resulting splits contained 2 items, then the weighted impurity of that subset would be 2/20 * impurity. We’re lowering the importance of the impurity of sets with few elements.\n",
    "\n",
    "\n",
    "Now that we can calculate the information gain using weighted impurity, let’s do that for every possible feature. If we do this, we can find the best feature to split the data on."
   ]
  },
  {
   "cell_type": "code",
   "execution_count": 6,
   "id": "58bd44a6",
   "metadata": {},
   "outputs": [
    {
     "name": "stdout",
     "output_type": "stream",
     "text": [
      "0.27333333333333343\n",
      "0.04000000000000001\n",
      "0.10666666666666669\n",
      "0.3066666666666667\n",
      "0.15000000000000002\n",
      "0.29000000000000004\n"
     ]
    }
   ],
   "source": [
    "#Use of Weighted Info Gain\n",
    "from collections import Counter\n",
    "\n",
    "cars = [['med', 'low', '3', '4', 'med', 'med'], ['med', 'vhigh', '4', 'more', 'small', 'high'], ['high', 'med', '3', '2', 'med', 'low'], ['med', 'low', '4', '4', 'med', 'low'], ['med', 'low', '5more', '2', 'big', 'med'], ['med', 'med', '2', 'more', 'big', 'high'], ['med', 'med', '2', 'more', 'med', 'med'], ['vhigh', 'vhigh', '2', '2', 'med', 'low'], ['high', 'med', '4', '2', 'big', 'low'], ['low', 'low', '2', '4', 'big', 'med']]\n",
    "\n",
    "car_labels = ['acc', 'acc', 'unacc', 'unacc', 'unacc', 'vgood', 'acc', 'unacc', 'unacc', 'good']\n",
    "#car labels is the final wala good ,acceptable or not and so on\n",
    "#the cars is the features it has based on it car_labels will be  given\n",
    "def split(dataset, labels, column):\n",
    "    data_subsets = []\n",
    "    label_subsets = []\n",
    "    counts = list(set([data[column] for data in dataset]))\n",
    "    counts.sort()\n",
    "    for k in counts:\n",
    "        new_data_subset = []\n",
    "        new_label_subset = []\n",
    "        for i in range(len(dataset)):\n",
    "            if dataset[i][column] == k:\n",
    "                new_data_subset.append(dataset[i])\n",
    "                new_label_subset.append(labels[i])\n",
    "        data_subsets.append(new_data_subset)\n",
    "        label_subsets.append(new_label_subset)\n",
    "    return data_subsets, label_subsets#this will split the datasets based on the column(we send) like the feature column then splits all into that like number of doors split into 3 subset(2,3,4) like that and give us\n",
    "    #data subsets is all the data of split together\n",
    "    #label subsets is all the labels of split\n",
    "def gini(dataset):\n",
    "  impurity = 1\n",
    "  label_counts = Counter(dataset)\n",
    "  for label in label_counts:\n",
    "    prob_of_label = label_counts[label] / len(dataset)\n",
    "    impurity -= prob_of_label ** 2\n",
    "  return impurity\n",
    "\n",
    "def information_gain(starting_labels, split_labels):\n",
    "  info_gain = gini(starting_labels)\n",
    "  for subset in split_labels:\n",
    "    info_gain -= gini(subset) * len(subset) / len(starting_labels)#weighted info gain\n",
    "  return info_gain\n",
    "\n",
    "for i in range(6):\n",
    "  split_data, split_labels = split(cars, car_labels, i)\n",
    "  print(information_gain(car_labels, split_labels))#here we calculate the info gain for all features and print(like to first split on what)"
   ]
  },
  {
   "cell_type": "markdown",
   "id": "7ba983ef",
   "metadata": {},
   "source": [
    "## Recursive Decision Tree Building"
   ]
  },
  {
   "cell_type": "raw",
   "id": "5170fd90",
   "metadata": {},
   "source": [
    "Recursive Tree Building\n",
    "Now that we can find the best feature to split the dataset, we can repeat this process again and again to create the full tree. This is a recursive algorithm! We start with every data point from the training set, find the best feature to split the data, split the data based on that feature, and then recursively repeat the process again on each subset that was created from the split.\n",
    "\n",
    "We’ll stop the recursion when we can no longer find a feature that results in any information gain. In other words, we want to create a leaf of the tree when we can’t find a way to split the data that makes purer subsets.\n",
    "\n",
    "The leaf should keep track of the classes of the data points from the training set that ended up in the leaf. In our implementation, we’ll use a Counter object to keep track of the counts of labels.\n",
    "continuoys based on best feature we go on to split"
   ]
  },
  {
   "cell_type": "code",
   "execution_count": null,
   "id": "2cdc4958",
   "metadata": {},
   "outputs": [],
   "source": [
    "from tree import *\n",
    "\n",
    "car_data = [['med', 'low', '3', '4', 'med', 'med'], ['med', 'vhigh', '4', 'more', 'small', 'high'], ['high', 'med', '3', '2', 'med', 'low'], ['med', 'low', '4', '4', 'med', 'low'], ['med', 'low', '5more', '2', 'big', 'med'], ['med', 'med', '2', 'more', 'big', 'high'], ['med', 'med', '2', 'more', 'med', 'med'], ['vhigh', 'vhigh', '2', '2', 'med', 'low'], ['high', 'med', '4', '2', 'big', 'low'], ['low', 'low', '2', '4', 'big', 'med']]\n",
    "\n",
    "car_labels = ['acc', 'acc', 'unacc', 'unacc', 'unacc', 'vgood', 'acc', 'unacc', 'unacc', 'good']\n",
    "\n",
    "def find_best_split(dataset, labels):\n",
    "    best_gain = 0\n",
    "    best_feature = 0\n",
    "    for feature in range(len(dataset[0])):\n",
    "        data_subsets, label_subsets = split(dataset, labels, feature)#split from previous where it loops through all and gives the data subsets and label subsets\n",
    "        gain = information_gain(labels, label_subsets)#using the split we calculate the info gain\n",
    "        if gain > best_gain:\n",
    "            best_gain, best_feature = gain, feature\n",
    "    return best_feature, best_gain#return the best feature having best info gain\n",
    "\n",
    "def build_tree(data, labels):#recursive tree building function\n",
    "  best_feature, best_gain = find_best_split(data, labels)#from datasets get bst feature and best gain\n",
    "  if best_gain == 0:\n",
    "    return Counter(labels)#if best gain then it is the leaf node\n",
    "  data_subsets, label_subsets = split(data, labels, best_feature)\n",
    "  branches = []\n",
    "  for i in range(len(data_subsets)):#the ngo through each data subsets\n",
    "    branch = build_tree(data_subsets[i], label_subsets[i])#call the function recursively and append branches i.e the count of it returns\n",
    "    branches.append(branch)#append the branches\n",
    "  return branches#return the branches\n",
    "  #like each split,go to each subsets and return if it is leaf node so recursively the branches returns and we get in end all branches\n",
    "tree = build_tree(car_data, car_labels)\n",
    "print_tree(tree)#function yet to learn "
   ]
  },
  {
   "cell_type": "raw",
   "id": "c9064342",
   "metadata": {},
   "source": [
    "#output is best feature was index 3 i.e number of doors split into three branches\n",
    "Splitting\n",
    "--> Branch 0:\n",
    "  Counter({'unacc': 4}) so its direct leaf node \n",
    "--> Branch 1: split on another feature to again three and so on\n",
    "  Splitting\n",
    "  --> Branch 0:\n",
    "    Counter({'good': 1})\n",
    "  --> Branch 1:\n",
    "    Counter({'acc': 1})\n",
    "  --> Branch 2:\n",
    "    Counter({'unacc': 1})\n",
    "--> Branch 2:\n",
    "  Splitting\n",
    "  --> Branch 0:\n",
    "    Counter({'vgood': 1})\n",
    "  --> Branch 1:\n",
    "    Counter({'acc': 1})\n",
    "  --> Branch 2:\n",
    "    Counter({'acc': 1})"
   ]
  },
  {
   "cell_type": "markdown",
   "id": "4a92a1c7",
   "metadata": {},
   "source": [
    "## Classying new data"
   ]
  },
  {
   "cell_type": "raw",
   "id": "056f5395",
   "metadata": {},
   "source": [
    "Classifying New Data\n",
    "We can finally use our tree as a classifier! Given a new data point, we start at the top of the tree and follow the path of the tree until we hit a leaf. Once we get to a leaf, we’ll use the classes of the points from the training set to make a classification.\n",
    "\n",
    "We’ve slightly changed the way our build_tree() function works. Instead of returning a list of branches or a Counter object, the build_tree() function now returns a Leaf object or an Internal_Node object. We’ll explain how to use these objects in the instructions!\n",
    "\n",
    "Let’s write a function that will use our tree to classify new points!"
   ]
  },
  {
   "cell_type": "code",
   "execution_count": null,
   "id": "b075a6bc",
   "metadata": {},
   "outputs": [],
   "source": [
    "from tree import *\n",
    "import operator\n",
    "print_tree(tree)\n",
    "test_point = ['vhigh', 'low', '3', '4', 'med', 'med']\n",
    "#print tree gives\n",
    "Splitting on Estimated Saftey\n",
    "--> Branch high:\n",
    "  Splitting on Person Capacity\n",
    "  --> Branch 2:\n",
    "    Counter({'unacc': 174})\n",
    "  --> Branch 4:\n",
    "    Splitting on Buying Price\n",
    "    --> Branch high:\n",
    "      Splitting on Price of maintenance\n",
    "      --> Branch high:\n",
    "        Counter({'acc': 11})\n",
    "      --> Branch low:\n",
    "        Counter({'acc': 12})\n",
    "      --> Branch med:\n",
    "        Counter({'acc': 11})\n",
    "      --> Branch vhigh:\n",
    "        Counter({'unacc': 12})\n",
    "    --> Branch low:\n",
    "      Splitting on Price of maintenance\n",
    "      --> Branch high:\n",
    "        Splitting on Size of luggage boot\n",
    "        --> Branch big:\n",
    "          Counter({'vgood': 4})\n",
    "        --> Branch med:\n",
    "          Splitting on Number of doors\n",
    "          --> Branch 2:\n",
    "            Counter({'acc': 1})\n",
    "          --> Branch 3:\n",
    "            Counter({'acc': 1})\n",
    "          --> Branch 4:\n",
    "            Counter({'vgood': 1})\n",
    "          --> Branch 5more:\n",
    "            Counter({'vgood': 1})\n",
    "        --> Branch small:\n",
    "          Counter({'acc': 3})\n",
    "      --> Branch low:\n",
    "        Splitting on Size of luggage boot\n",
    "        --> Branch big:\n",
    "          Counter({'vgood': 3})\n",
    "        --> Branch med:\n",
    "          Splitting on Number of doors\n",
    "          --> Branch 2:\n",
    "            Counter({'good': 1})\n",
    "          --> Branch 3:\n",
    "            ...\n",
    "        something like this"
   ]
  },
  {
   "cell_type": "code",
   "execution_count": null,
   "id": "96115f13",
   "metadata": {},
   "outputs": [],
   "source": [
    "#writing classify function\n",
    "from tree import *\n",
    "import operator\n",
    "\n",
    "test_point = ['vhigh', 'low', '3', '4', 'med', 'med']\n",
    "\n",
    "def classify(datapoint, tree):\n",
    "  if isinstance(tree, Leaf):#if it is a leaf we need to return the label with max count\n",
    "    return max(tree.labels.items(), key=operator.itemgetter(1))[0]\n",
    "\n",
    "  value = datapoint[tree.feature]#otherwise we see the featur we are splitting\n",
    "  for branch in tree.branches:#go through all branches \n",
    "    if branch.value == value:#if the branch we split is equal to the value\n",
    "      return classify(datapoint, branch)#call function again with that branch as tree and goes till leaf node got\n",
    "\n",
    "print(classify(test_point, tree))#output comes as unacceptable"
   ]
  },
  {
   "cell_type": "markdown",
   "id": "3fc02e5f",
   "metadata": {},
   "source": [
    "## Decision Tree in Classifier"
   ]
  },
  {
   "cell_type": "raw",
   "id": "706091a4",
   "metadata": {},
   "source": [
    "Decision Trees in scikit-learn(imp to change to numeric helps(and can split and do also to train and test)\n",
    "Nice work! You’ve written a decision tree from scratch that is able to classify new points. Let’s take a look at how the Python library scikit-learn implements decision trees.\n",
    "\n",
    "The sklearn.tree module contains the DecisionTreeClassifier class. To create a DecisionTreeClassifier object, call the constructor:\n",
    "\n",
    "classifier = DecisionTreeClassifier()\n",
    "\n",
    "Next, we want to create the tree based on our training data. To do this, we’ll use the .fit() method.\n",
    "\n",
    ".fit() takes a list of data points followed by a list of the labels associated with that data. Note that when we built our tree from scratch, our data points contained strings like \"vhigh\" or \"5more\". When creating the tree using scikit-learn, it’s a good idea to map those strings to numbers. For example, for the first feature representing the price of the car, \"low\" would map to 1, \"med\" would map to 2, and so on.\n",
    "\n",
    "classifier.fit(training_data, training_labels)\n",
    "\n",
    "Finally, once we’ve made our tree, we can use it to classify new data points. The .predict() method takes an array of data points and will return an array of classifications for those data points.\n",
    "\n",
    "predictions = classifier.predict(test_data)\n",
    "\n",
    "If you’ve split your data into a test set, you can find the accuracy of the model by calling the .score() method using the test data and the test labels as parameters.\n",
    "\n",
    "print(classifier.score(test_data, test_labels))\n",
    "\n",
    ".score() returns the percentage of data points from the test set that it classified correctly."
   ]
  },
  {
   "cell_type": "code",
   "execution_count": null,
   "id": "1bea234f",
   "metadata": {},
   "outputs": [],
   "source": [
    "#using sklearn\n",
    "from cars import training_points, training_labels, testing_points, testing_labels\n",
    "from sklearn.tree import DecisionTreeClassifier\n",
    "\n",
    "print(training_points[0])\n",
    "print(training_labels[0])\n",
    "classifier=DecisionTreeClassifier()\n",
    "classifier.fit(training_points,training_labels)\n",
    "test_predict=classifier.predict(testing_points)\n",
    "print(classifier.score(testing_points,testing_labels))\n",
    "#output is \n",
    "[4.0, 3.0, 4.0, 2.0, 1.0, 2.0]\n",
    "acc\n",
    "0.9710982658959537"
   ]
  },
  {
   "cell_type": "markdown",
   "id": "ba849157",
   "metadata": {},
   "source": [
    "## Decision Tree Limitations"
   ]
  },
  {
   "cell_type": "raw",
   "id": "8d49d38d",
   "metadata": {},
   "source": [
    "Decision Tree Limitations(not global,overfit)\n",
    "Now that we have an understanding of how decision trees are created and used, let’s talk about some of their limitations.\n",
    "\n",
    "One problem with the way we’re currently making our decision trees is that our trees aren’t always globablly optimal. This means that there might be a better tree out there somewhere that produces better results. But wait, why did we go through all that work of finding information gain if it’s not producing the best possible tree?\n",
    "\n",
    "Our current strategy of creating trees is greedy. We assume that the best way to create a tree is to find the feature that will result in the largest information gain right now and split on that feature. We never consider the ramifications of that split further down the tree. It’s possible that if we split on a suboptimal feature right now, we would find even better splits later on. Unfortunately, finding a globally optimal tree is an extremely difficult task, and finding a tree using our greedy approach is a reasonable substitute.\n",
    "\n",
    "Another problem with our trees is that they potentially overfit the data. This means that the structure of the tree is too dependent on the training data and doesn’t accurately represent the way the data in the real world looks like. In general, larger trees tend to overfit the data more. As the tree gets bigger, it becomes more tuned to the training data and it loses a more generalized understanding of the real world data.\n",
    "\n",
    "One way to solve this problem is to prune the tree. The goal of pruning is to shrink the size of the tree. There are a few different pruning strategies, and we won’t go into the details of them here. scikit-learn currently doesn’t prune the tree by default, however we can dig into the code a bit to prune it ourselves."
   ]
  },
  {
   "cell_type": "code",
   "execution_count": null,
   "id": "e313d29a",
   "metadata": {},
   "outputs": [],
   "source": [
    "#pruning\n",
    "from cars import training_points, training_labels, testing_points, testing_labels\n",
    "from sklearn.tree import DecisionTreeClassifier\n",
    "\n",
    "classifier = DecisionTreeClassifier(random_state = 0,max_depth=11)#telling max depth to decrease\n",
    "classifier.fit(training_points, training_labels)\n",
    "print(classifier.score(testing_points, testing_labels))\n",
    "print(classifier.tree_.max_depth)"
   ]
  },
  {
   "cell_type": "raw",
   "id": "d0ca0a0c",
   "metadata": {},
   "source": [
    "Review\n",
    "Great work! In this lesson, you learned how to create decision trees and use them to make classifications. Here are some of the major takeaways:\n",
    "\n",
    "Good decision trees have pure leaves. A leaf is pure if all of the data points in that class have the same label.\n",
    "Decision trees are created using a greedy algorithm that prioritizes finding the feature that results in the largest information gain when splitting the data using that feature.\n",
    "Creating an optimal decision tree is difficult. The greedy algorithm doesn’t always find the globally optimal tree.\n",
    "Decision trees often suffer from overfitting. Making the tree small by pruning helps to generalize the tree so it is more accurate on data in the real world."
   ]
  },
  {
   "cell_type": "markdown",
   "id": "ccef2b99",
   "metadata": {},
   "source": [
    "## Practice-Decision Tree-Iris Dataset"
   ]
  },
  {
   "cell_type": "code",
   "execution_count": 23,
   "id": "7866fe1a",
   "metadata": {},
   "outputs": [],
   "source": [
    "import pandas as pd\n",
    "import numpy as np\n",
    "import matplotlib.pyplot as plt\n",
    "import seaborn as sns\n",
    "from sklearn.tree import DecisionTreeClassifier\n",
    "from sklearn.model_selection import train_test_split\n",
    "from sklearn.metrics import accuracy_score"
   ]
  },
  {
   "cell_type": "code",
   "execution_count": 15,
   "id": "d0022bfd",
   "metadata": {},
   "outputs": [
    {
     "data": {
      "text/html": [
       "<div>\n",
       "<style scoped>\n",
       "    .dataframe tbody tr th:only-of-type {\n",
       "        vertical-align: middle;\n",
       "    }\n",
       "\n",
       "    .dataframe tbody tr th {\n",
       "        vertical-align: top;\n",
       "    }\n",
       "\n",
       "    .dataframe thead th {\n",
       "        text-align: right;\n",
       "    }\n",
       "</style>\n",
       "<table border=\"1\" class=\"dataframe\">\n",
       "  <thead>\n",
       "    <tr style=\"text-align: right;\">\n",
       "      <th></th>\n",
       "      <th>Id</th>\n",
       "      <th>SepalLengthCm</th>\n",
       "      <th>SepalWidthCm</th>\n",
       "      <th>PetalLengthCm</th>\n",
       "      <th>PetalWidthCm</th>\n",
       "      <th>Species</th>\n",
       "    </tr>\n",
       "  </thead>\n",
       "  <tbody>\n",
       "    <tr>\n",
       "      <th>0</th>\n",
       "      <td>1</td>\n",
       "      <td>5.1</td>\n",
       "      <td>3.5</td>\n",
       "      <td>1.4</td>\n",
       "      <td>0.2</td>\n",
       "      <td>Iris-setosa</td>\n",
       "    </tr>\n",
       "    <tr>\n",
       "      <th>1</th>\n",
       "      <td>2</td>\n",
       "      <td>4.9</td>\n",
       "      <td>3.0</td>\n",
       "      <td>1.4</td>\n",
       "      <td>0.2</td>\n",
       "      <td>Iris-setosa</td>\n",
       "    </tr>\n",
       "    <tr>\n",
       "      <th>2</th>\n",
       "      <td>3</td>\n",
       "      <td>4.7</td>\n",
       "      <td>3.2</td>\n",
       "      <td>1.3</td>\n",
       "      <td>0.2</td>\n",
       "      <td>Iris-setosa</td>\n",
       "    </tr>\n",
       "    <tr>\n",
       "      <th>3</th>\n",
       "      <td>4</td>\n",
       "      <td>4.6</td>\n",
       "      <td>3.1</td>\n",
       "      <td>1.5</td>\n",
       "      <td>0.2</td>\n",
       "      <td>Iris-setosa</td>\n",
       "    </tr>\n",
       "    <tr>\n",
       "      <th>4</th>\n",
       "      <td>5</td>\n",
       "      <td>5.0</td>\n",
       "      <td>3.6</td>\n",
       "      <td>1.4</td>\n",
       "      <td>0.2</td>\n",
       "      <td>Iris-setosa</td>\n",
       "    </tr>\n",
       "  </tbody>\n",
       "</table>\n",
       "</div>"
      ],
      "text/plain": [
       "   Id  SepalLengthCm  SepalWidthCm  PetalLengthCm  PetalWidthCm      Species\n",
       "0   1            5.1           3.5            1.4           0.2  Iris-setosa\n",
       "1   2            4.9           3.0            1.4           0.2  Iris-setosa\n",
       "2   3            4.7           3.2            1.3           0.2  Iris-setosa\n",
       "3   4            4.6           3.1            1.5           0.2  Iris-setosa\n",
       "4   5            5.0           3.6            1.4           0.2  Iris-setosa"
      ]
     },
     "execution_count": 15,
     "metadata": {},
     "output_type": "execute_result"
    }
   ],
   "source": [
    "df=pd.read_csv('Iris.csv')\n",
    "df.head()"
   ]
  },
  {
   "cell_type": "code",
   "execution_count": 16,
   "id": "fe98a2de",
   "metadata": {},
   "outputs": [
    {
     "name": "stdout",
     "output_type": "stream",
     "text": [
      "<class 'pandas.core.frame.DataFrame'>\n",
      "RangeIndex: 150 entries, 0 to 149\n",
      "Data columns (total 6 columns):\n",
      " #   Column         Non-Null Count  Dtype  \n",
      "---  ------         --------------  -----  \n",
      " 0   Id             150 non-null    int64  \n",
      " 1   SepalLengthCm  150 non-null    float64\n",
      " 2   SepalWidthCm   150 non-null    float64\n",
      " 3   PetalLengthCm  150 non-null    float64\n",
      " 4   PetalWidthCm   150 non-null    float64\n",
      " 5   Species        150 non-null    object \n",
      "dtypes: float64(4), int64(1), object(1)\n",
      "memory usage: 7.2+ KB\n"
     ]
    }
   ],
   "source": [
    "df.info()"
   ]
  },
  {
   "cell_type": "code",
   "execution_count": 17,
   "id": "9c4900eb",
   "metadata": {},
   "outputs": [
    {
     "data": {
      "text/plain": [
       "Id               0\n",
       "SepalLengthCm    0\n",
       "SepalWidthCm     0\n",
       "PetalLengthCm    0\n",
       "PetalWidthCm     0\n",
       "Species          0\n",
       "dtype: int64"
      ]
     },
     "execution_count": 17,
     "metadata": {},
     "output_type": "execute_result"
    }
   ],
   "source": [
    "df.isnull().sum()"
   ]
  },
  {
   "cell_type": "code",
   "execution_count": 18,
   "id": "0f850ca0",
   "metadata": {},
   "outputs": [
    {
     "data": {
      "text/html": [
       "<div>\n",
       "<style scoped>\n",
       "    .dataframe tbody tr th:only-of-type {\n",
       "        vertical-align: middle;\n",
       "    }\n",
       "\n",
       "    .dataframe tbody tr th {\n",
       "        vertical-align: top;\n",
       "    }\n",
       "\n",
       "    .dataframe thead th {\n",
       "        text-align: right;\n",
       "    }\n",
       "</style>\n",
       "<table border=\"1\" class=\"dataframe\">\n",
       "  <thead>\n",
       "    <tr style=\"text-align: right;\">\n",
       "      <th></th>\n",
       "      <th>Id</th>\n",
       "      <th>SepalLengthCm</th>\n",
       "      <th>SepalWidthCm</th>\n",
       "      <th>PetalLengthCm</th>\n",
       "      <th>PetalWidthCm</th>\n",
       "    </tr>\n",
       "  </thead>\n",
       "  <tbody>\n",
       "    <tr>\n",
       "      <th>count</th>\n",
       "      <td>150.000000</td>\n",
       "      <td>150.000000</td>\n",
       "      <td>150.000000</td>\n",
       "      <td>150.000000</td>\n",
       "      <td>150.000000</td>\n",
       "    </tr>\n",
       "    <tr>\n",
       "      <th>mean</th>\n",
       "      <td>75.500000</td>\n",
       "      <td>5.843333</td>\n",
       "      <td>3.054000</td>\n",
       "      <td>3.758667</td>\n",
       "      <td>1.198667</td>\n",
       "    </tr>\n",
       "    <tr>\n",
       "      <th>std</th>\n",
       "      <td>43.445368</td>\n",
       "      <td>0.828066</td>\n",
       "      <td>0.433594</td>\n",
       "      <td>1.764420</td>\n",
       "      <td>0.763161</td>\n",
       "    </tr>\n",
       "    <tr>\n",
       "      <th>min</th>\n",
       "      <td>1.000000</td>\n",
       "      <td>4.300000</td>\n",
       "      <td>2.000000</td>\n",
       "      <td>1.000000</td>\n",
       "      <td>0.100000</td>\n",
       "    </tr>\n",
       "    <tr>\n",
       "      <th>25%</th>\n",
       "      <td>38.250000</td>\n",
       "      <td>5.100000</td>\n",
       "      <td>2.800000</td>\n",
       "      <td>1.600000</td>\n",
       "      <td>0.300000</td>\n",
       "    </tr>\n",
       "    <tr>\n",
       "      <th>50%</th>\n",
       "      <td>75.500000</td>\n",
       "      <td>5.800000</td>\n",
       "      <td>3.000000</td>\n",
       "      <td>4.350000</td>\n",
       "      <td>1.300000</td>\n",
       "    </tr>\n",
       "    <tr>\n",
       "      <th>75%</th>\n",
       "      <td>112.750000</td>\n",
       "      <td>6.400000</td>\n",
       "      <td>3.300000</td>\n",
       "      <td>5.100000</td>\n",
       "      <td>1.800000</td>\n",
       "    </tr>\n",
       "    <tr>\n",
       "      <th>max</th>\n",
       "      <td>150.000000</td>\n",
       "      <td>7.900000</td>\n",
       "      <td>4.400000</td>\n",
       "      <td>6.900000</td>\n",
       "      <td>2.500000</td>\n",
       "    </tr>\n",
       "  </tbody>\n",
       "</table>\n",
       "</div>"
      ],
      "text/plain": [
       "               Id  SepalLengthCm  SepalWidthCm  PetalLengthCm  PetalWidthCm\n",
       "count  150.000000     150.000000    150.000000     150.000000    150.000000\n",
       "mean    75.500000       5.843333      3.054000       3.758667      1.198667\n",
       "std     43.445368       0.828066      0.433594       1.764420      0.763161\n",
       "min      1.000000       4.300000      2.000000       1.000000      0.100000\n",
       "25%     38.250000       5.100000      2.800000       1.600000      0.300000\n",
       "50%     75.500000       5.800000      3.000000       4.350000      1.300000\n",
       "75%    112.750000       6.400000      3.300000       5.100000      1.800000\n",
       "max    150.000000       7.900000      4.400000       6.900000      2.500000"
      ]
     },
     "execution_count": 18,
     "metadata": {},
     "output_type": "execute_result"
    }
   ],
   "source": [
    "df.describe()"
   ]
  },
  {
   "cell_type": "code",
   "execution_count": 19,
   "id": "e95532b0",
   "metadata": {},
   "outputs": [
    {
     "data": {
      "text/html": [
       "<div>\n",
       "<style scoped>\n",
       "    .dataframe tbody tr th:only-of-type {\n",
       "        vertical-align: middle;\n",
       "    }\n",
       "\n",
       "    .dataframe tbody tr th {\n",
       "        vertical-align: top;\n",
       "    }\n",
       "\n",
       "    .dataframe thead th {\n",
       "        text-align: right;\n",
       "    }\n",
       "</style>\n",
       "<table border=\"1\" class=\"dataframe\">\n",
       "  <thead>\n",
       "    <tr style=\"text-align: right;\">\n",
       "      <th></th>\n",
       "      <th>SepalLengthCm</th>\n",
       "      <th>SepalWidthCm</th>\n",
       "      <th>PetalLengthCm</th>\n",
       "      <th>PetalWidthCm</th>\n",
       "    </tr>\n",
       "  </thead>\n",
       "  <tbody>\n",
       "    <tr>\n",
       "      <th>0</th>\n",
       "      <td>5.1</td>\n",
       "      <td>3.5</td>\n",
       "      <td>1.4</td>\n",
       "      <td>0.2</td>\n",
       "    </tr>\n",
       "    <tr>\n",
       "      <th>1</th>\n",
       "      <td>4.9</td>\n",
       "      <td>3.0</td>\n",
       "      <td>1.4</td>\n",
       "      <td>0.2</td>\n",
       "    </tr>\n",
       "    <tr>\n",
       "      <th>2</th>\n",
       "      <td>4.7</td>\n",
       "      <td>3.2</td>\n",
       "      <td>1.3</td>\n",
       "      <td>0.2</td>\n",
       "    </tr>\n",
       "    <tr>\n",
       "      <th>3</th>\n",
       "      <td>4.6</td>\n",
       "      <td>3.1</td>\n",
       "      <td>1.5</td>\n",
       "      <td>0.2</td>\n",
       "    </tr>\n",
       "    <tr>\n",
       "      <th>4</th>\n",
       "      <td>5.0</td>\n",
       "      <td>3.6</td>\n",
       "      <td>1.4</td>\n",
       "      <td>0.2</td>\n",
       "    </tr>\n",
       "    <tr>\n",
       "      <th>...</th>\n",
       "      <td>...</td>\n",
       "      <td>...</td>\n",
       "      <td>...</td>\n",
       "      <td>...</td>\n",
       "    </tr>\n",
       "    <tr>\n",
       "      <th>145</th>\n",
       "      <td>6.7</td>\n",
       "      <td>3.0</td>\n",
       "      <td>5.2</td>\n",
       "      <td>2.3</td>\n",
       "    </tr>\n",
       "    <tr>\n",
       "      <th>146</th>\n",
       "      <td>6.3</td>\n",
       "      <td>2.5</td>\n",
       "      <td>5.0</td>\n",
       "      <td>1.9</td>\n",
       "    </tr>\n",
       "    <tr>\n",
       "      <th>147</th>\n",
       "      <td>6.5</td>\n",
       "      <td>3.0</td>\n",
       "      <td>5.2</td>\n",
       "      <td>2.0</td>\n",
       "    </tr>\n",
       "    <tr>\n",
       "      <th>148</th>\n",
       "      <td>6.2</td>\n",
       "      <td>3.4</td>\n",
       "      <td>5.4</td>\n",
       "      <td>2.3</td>\n",
       "    </tr>\n",
       "    <tr>\n",
       "      <th>149</th>\n",
       "      <td>5.9</td>\n",
       "      <td>3.0</td>\n",
       "      <td>5.1</td>\n",
       "      <td>1.8</td>\n",
       "    </tr>\n",
       "  </tbody>\n",
       "</table>\n",
       "<p>150 rows × 4 columns</p>\n",
       "</div>"
      ],
      "text/plain": [
       "     SepalLengthCm  SepalWidthCm  PetalLengthCm  PetalWidthCm\n",
       "0              5.1           3.5            1.4           0.2\n",
       "1              4.9           3.0            1.4           0.2\n",
       "2              4.7           3.2            1.3           0.2\n",
       "3              4.6           3.1            1.5           0.2\n",
       "4              5.0           3.6            1.4           0.2\n",
       "..             ...           ...            ...           ...\n",
       "145            6.7           3.0            5.2           2.3\n",
       "146            6.3           2.5            5.0           1.9\n",
       "147            6.5           3.0            5.2           2.0\n",
       "148            6.2           3.4            5.4           2.3\n",
       "149            5.9           3.0            5.1           1.8\n",
       "\n",
       "[150 rows x 4 columns]"
      ]
     },
     "execution_count": 19,
     "metadata": {},
     "output_type": "execute_result"
    }
   ],
   "source": [
    "X=df.iloc[:,1:5]\n",
    "X"
   ]
  },
  {
   "cell_type": "code",
   "execution_count": 21,
   "id": "9fefabe9",
   "metadata": {},
   "outputs": [
    {
     "data": {
      "text/plain": [
       "0         Iris-setosa\n",
       "1         Iris-setosa\n",
       "2         Iris-setosa\n",
       "3         Iris-setosa\n",
       "4         Iris-setosa\n",
       "            ...      \n",
       "145    Iris-virginica\n",
       "146    Iris-virginica\n",
       "147    Iris-virginica\n",
       "148    Iris-virginica\n",
       "149    Iris-virginica\n",
       "Name: Species, Length: 150, dtype: object"
      ]
     },
     "execution_count": 21,
     "metadata": {},
     "output_type": "execute_result"
    }
   ],
   "source": [
    "y=df.iloc[:,5]\n",
    "y"
   ]
  },
  {
   "cell_type": "code",
   "execution_count": 24,
   "id": "f598cb1f",
   "metadata": {},
   "outputs": [],
   "source": [
    "X_train,X_test,y_train,y_test=train_test_split(X,y,test_size=0.2)"
   ]
  },
  {
   "cell_type": "code",
   "execution_count": 25,
   "id": "62fe6bed",
   "metadata": {},
   "outputs": [],
   "source": [
    "classifier=DecisionTreeClassifier()"
   ]
  },
  {
   "cell_type": "code",
   "execution_count": 26,
   "id": "ac0814a4",
   "metadata": {},
   "outputs": [
    {
     "data": {
      "text/html": [
       "<style>#sk-container-id-1 {color: black;background-color: white;}#sk-container-id-1 pre{padding: 0;}#sk-container-id-1 div.sk-toggleable {background-color: white;}#sk-container-id-1 label.sk-toggleable__label {cursor: pointer;display: block;width: 100%;margin-bottom: 0;padding: 0.3em;box-sizing: border-box;text-align: center;}#sk-container-id-1 label.sk-toggleable__label-arrow:before {content: \"▸\";float: left;margin-right: 0.25em;color: #696969;}#sk-container-id-1 label.sk-toggleable__label-arrow:hover:before {color: black;}#sk-container-id-1 div.sk-estimator:hover label.sk-toggleable__label-arrow:before {color: black;}#sk-container-id-1 div.sk-toggleable__content {max-height: 0;max-width: 0;overflow: hidden;text-align: left;background-color: #f0f8ff;}#sk-container-id-1 div.sk-toggleable__content pre {margin: 0.2em;color: black;border-radius: 0.25em;background-color: #f0f8ff;}#sk-container-id-1 input.sk-toggleable__control:checked~div.sk-toggleable__content {max-height: 200px;max-width: 100%;overflow: auto;}#sk-container-id-1 input.sk-toggleable__control:checked~label.sk-toggleable__label-arrow:before {content: \"▾\";}#sk-container-id-1 div.sk-estimator input.sk-toggleable__control:checked~label.sk-toggleable__label {background-color: #d4ebff;}#sk-container-id-1 div.sk-label input.sk-toggleable__control:checked~label.sk-toggleable__label {background-color: #d4ebff;}#sk-container-id-1 input.sk-hidden--visually {border: 0;clip: rect(1px 1px 1px 1px);clip: rect(1px, 1px, 1px, 1px);height: 1px;margin: -1px;overflow: hidden;padding: 0;position: absolute;width: 1px;}#sk-container-id-1 div.sk-estimator {font-family: monospace;background-color: #f0f8ff;border: 1px dotted black;border-radius: 0.25em;box-sizing: border-box;margin-bottom: 0.5em;}#sk-container-id-1 div.sk-estimator:hover {background-color: #d4ebff;}#sk-container-id-1 div.sk-parallel-item::after {content: \"\";width: 100%;border-bottom: 1px solid gray;flex-grow: 1;}#sk-container-id-1 div.sk-label:hover label.sk-toggleable__label {background-color: #d4ebff;}#sk-container-id-1 div.sk-serial::before {content: \"\";position: absolute;border-left: 1px solid gray;box-sizing: border-box;top: 0;bottom: 0;left: 50%;z-index: 0;}#sk-container-id-1 div.sk-serial {display: flex;flex-direction: column;align-items: center;background-color: white;padding-right: 0.2em;padding-left: 0.2em;position: relative;}#sk-container-id-1 div.sk-item {position: relative;z-index: 1;}#sk-container-id-1 div.sk-parallel {display: flex;align-items: stretch;justify-content: center;background-color: white;position: relative;}#sk-container-id-1 div.sk-item::before, #sk-container-id-1 div.sk-parallel-item::before {content: \"\";position: absolute;border-left: 1px solid gray;box-sizing: border-box;top: 0;bottom: 0;left: 50%;z-index: -1;}#sk-container-id-1 div.sk-parallel-item {display: flex;flex-direction: column;z-index: 1;position: relative;background-color: white;}#sk-container-id-1 div.sk-parallel-item:first-child::after {align-self: flex-end;width: 50%;}#sk-container-id-1 div.sk-parallel-item:last-child::after {align-self: flex-start;width: 50%;}#sk-container-id-1 div.sk-parallel-item:only-child::after {width: 0;}#sk-container-id-1 div.sk-dashed-wrapped {border: 1px dashed gray;margin: 0 0.4em 0.5em 0.4em;box-sizing: border-box;padding-bottom: 0.4em;background-color: white;}#sk-container-id-1 div.sk-label label {font-family: monospace;font-weight: bold;display: inline-block;line-height: 1.2em;}#sk-container-id-1 div.sk-label-container {text-align: center;}#sk-container-id-1 div.sk-container {/* jupyter's `normalize.less` sets `[hidden] { display: none; }` but bootstrap.min.css set `[hidden] { display: none !important; }` so we also need the `!important` here to be able to override the default hidden behavior on the sphinx rendered scikit-learn.org. See: https://github.com/scikit-learn/scikit-learn/issues/21755 */display: inline-block !important;position: relative;}#sk-container-id-1 div.sk-text-repr-fallback {display: none;}</style><div id=\"sk-container-id-1\" class=\"sk-top-container\"><div class=\"sk-text-repr-fallback\"><pre>DecisionTreeClassifier()</pre><b>In a Jupyter environment, please rerun this cell to show the HTML representation or trust the notebook. <br />On GitHub, the HTML representation is unable to render, please try loading this page with nbviewer.org.</b></div><div class=\"sk-container\" hidden><div class=\"sk-item\"><div class=\"sk-estimator sk-toggleable\"><input class=\"sk-toggleable__control sk-hidden--visually\" id=\"sk-estimator-id-1\" type=\"checkbox\" checked><label for=\"sk-estimator-id-1\" class=\"sk-toggleable__label sk-toggleable__label-arrow\">DecisionTreeClassifier</label><div class=\"sk-toggleable__content\"><pre>DecisionTreeClassifier()</pre></div></div></div></div></div>"
      ],
      "text/plain": [
       "DecisionTreeClassifier()"
      ]
     },
     "execution_count": 26,
     "metadata": {},
     "output_type": "execute_result"
    }
   ],
   "source": [
    "classifier.fit(X_train,y_train)"
   ]
  },
  {
   "cell_type": "code",
   "execution_count": 27,
   "id": "96d2ea28",
   "metadata": {},
   "outputs": [
    {
     "data": {
      "text/plain": [
       "array(['Iris-versicolor', 'Iris-versicolor', 'Iris-virginica',\n",
       "       'Iris-virginica', 'Iris-virginica', 'Iris-setosa',\n",
       "       'Iris-versicolor', 'Iris-virginica', 'Iris-virginica',\n",
       "       'Iris-versicolor', 'Iris-versicolor', 'Iris-virginica',\n",
       "       'Iris-setosa', 'Iris-setosa', 'Iris-versicolor', 'Iris-setosa',\n",
       "       'Iris-setosa', 'Iris-setosa', 'Iris-virginica', 'Iris-virginica',\n",
       "       'Iris-virginica', 'Iris-versicolor', 'Iris-virginica',\n",
       "       'Iris-versicolor', 'Iris-versicolor', 'Iris-versicolor',\n",
       "       'Iris-virginica', 'Iris-setosa', 'Iris-setosa', 'Iris-virginica'],\n",
       "      dtype=object)"
      ]
     },
     "execution_count": 27,
     "metadata": {},
     "output_type": "execute_result"
    }
   ],
   "source": [
    "predict=classifier.predict(X_test)\n",
    "predict"
   ]
  },
  {
   "cell_type": "code",
   "execution_count": 28,
   "id": "68a35064",
   "metadata": {},
   "outputs": [
    {
     "data": {
      "text/plain": [
       "0.9333333333333333"
      ]
     },
     "execution_count": 28,
     "metadata": {},
     "output_type": "execute_result"
    }
   ],
   "source": [
    "classifier.score(X_test,y_test)"
   ]
  },
  {
   "cell_type": "code",
   "execution_count": 29,
   "id": "5ee5e501",
   "metadata": {},
   "outputs": [
    {
     "data": {
      "text/plain": [
       "0.9333333333333333"
      ]
     },
     "execution_count": 29,
     "metadata": {},
     "output_type": "execute_result"
    }
   ],
   "source": [
    "accuracy_score(y_test,predict)"
   ]
  },
  {
   "cell_type": "code",
   "execution_count": 30,
   "id": "ca909464",
   "metadata": {},
   "outputs": [],
   "source": [
    "from sklearn.metrics import confusion_matrix"
   ]
  },
  {
   "cell_type": "code",
   "execution_count": 31,
   "id": "5ce9192e",
   "metadata": {},
   "outputs": [
    {
     "data": {
      "text/plain": [
       "<Axes: >"
      ]
     },
     "execution_count": 31,
     "metadata": {},
     "output_type": "execute_result"
    },
    {
     "data": {
      "image/png": "[encoded data removed]",
      "text/plain": [
       "<Figure size 640x480 with 2 Axes>"
      ]
     },
     "metadata": {},
     "output_type": "display_data"
    }
   ],
   "source": [
    "cm=confusion_matrix(y_test,predict)\n",
    "sns.heatmap(cm,annot=True)"
   ]
  },
  {
   "cell_type": "code",
   "execution_count": 32,
   "id": "cb1ab351",
   "metadata": {},
   "outputs": [
    {
     "data": {
      "text/plain": [
       "array([0.01253133, 0.01253133, 0.03626662, 0.93867072])"
      ]
     },
     "execution_count": 32,
     "metadata": {},
     "output_type": "execute_result"
    }
   ],
   "source": [
    "classifier.feature_importances_##gives the importance of each feature"
   ]
  },
  {
   "cell_type": "code",
   "execution_count": 33,
   "id": "24348a75",
   "metadata": {},
   "outputs": [
    {
     "data": {
      "text/plain": [
       "5"
      ]
     },
     "execution_count": 33,
     "metadata": {},
     "output_type": "execute_result"
    }
   ],
   "source": [
    "classifier.tree_.max_depth#tells us the max depth of tree"
   ]
  },
  {
   "cell_type": "code",
   "execution_count": 34,
   "id": "6a0466f7",
   "metadata": {},
   "outputs": [
    {
     "data": {
      "image/png": "[encoded data removed]",
      "text/plain": [
       "<Figure size 1500x1000 with 1 Axes>"
      ]
     },
     "metadata": {},
     "output_type": "display_data"
    }
   ],
   "source": [
    "#plot me the tree \n",
    "from sklearn import tree#how to plot the tree\n",
    "plt.figure(figsize=(15,10))\n",
    "tree.plot_tree(classifier)\n",
    "plt.show()"
   ]
  }
 ],
 "metadata": {
  "kernelspec": {
   "display_name": "Python 3 (ipykernel)",
   "language": "python",
   "name": "python3"
  },
  "language_info": {
   "codemirror_mode": {
    "name": "ipython",
    "version": 3
   },
   "file_extension": ".py",
   "mimetype": "text/x-python",
   "name": "python",
   "nbconvert_exporter": "python",
   "pygments_lexer": "ipython3",
   "version": "3.10.9"
  }
 },
 "nbformat": 4,
 "nbformat_minor": 5
}
