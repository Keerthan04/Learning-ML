{
 "cells": [
  {
   "cell_type": "markdown",
   "id": "fb700793",
   "metadata": {},
   "source": [
    "# Introduction  to Multiple Linear Regression"
   ]
  },
  {
   "cell_type": "raw",
   "id": "efeeae11",
   "metadata": {},
   "source": [
    "Introduction to Multiple Linear Regression\n",
    "Linear regression is useful when we want to predict the values of a variable from its relationship with other variables. There are two different types of linear regression models (simple linear regression and multiple linear regression).\n",
    "\n",
    "In predicting the price of a home, one factor to consider is the size of the home. The relationship between those two variables, price and size, is important, but there are other variables that factor in to pricing a home: location, air quality, demographics, parking, and more. When making predictions for price, our dependent variable, we’ll want to use multiple independent variables. To do this, we’ll use Multiple Linear Regression.\n",
    "\n",
    "Multiple Linear Regression uses two or more independent variables to predict the values of the dependent variable. It is based on the following equation that we’ll explore later on:\n",
    "\n",
    "    y=b+m1x1+m2x2+...+mnxn"
   ]
  },
  {
   "cell_type": "markdown",
   "id": "e6c4d6b3",
   "metadata": {},
   "source": [
    "## example"
   ]
  },
  {
   "cell_type": "code",
   "execution_count": null,
   "id": "1026638e",
   "metadata": {},
   "outputs": [],
   "source": [
    "#the streeteasy dataset not working so do with other once and see(learn)\n",
    "import matplotlib.pyplot as plt\n",
    "import numpy as np\n",
    "import pandas as pd\n",
    "\n",
    "from mpl_toolkits.mplot3d import Axes3D\n",
    "\n",
    "from sklearn.linear_model import LinearRegression\n",
    "from sklearn.model_selection import train_test_split\n",
    "\n",
    "streeteasy = pd.read_csv(\"https://raw.githubusercontent.com/sonnynomnom/Codecademy-Machine-Learning-Fundamentals/master/StreetEasy/manhattan.csv\")\n",
    "\n",
    "df = pd.DataFrame(streeteasy)\n",
    "\n",
    "x = df[['size_sqft','building_age_yrs']]\n",
    "y = df[['rent']]\n",
    "\n",
    "x_train, x_test, y_train, y_test = train_test_split(x, y, train_size = 0.8, test_size = 0.2, random_state=6)\n",
    "\n",
    "ols = LinearRegression()\n",
    "\n",
    "ols.fit(x_train, y_train)\n",
    "\n",
    "# Plot the figure\n",
    "\n",
    "fig = plt.figure(1, figsize=(6, 4))\n",
    "plt.clf()\n",
    "\n",
    "elev = 43.5\n",
    "azim = -110\n",
    "\n",
    "ax = Axes3D(fig, elev=elev, azim=azim)\n",
    "\n",
    "ax.scatter(x_train[['size_sqft']], x_train[['building_age_yrs']], y_train, c='k', marker='+')\n",
    "\n",
    "ax.plot_surface(np.array([[0, 0], [4500, 4500]]), np.array([[0, 140], [0, 140]]), ols.predict(np.array([[0, 0, 4500, 4500], [0, 140, 0, 140]]).T).reshape((2, 2)), alpha=.7)\n",
    "\n",
    "ax.set_xlabel('Size (ft$^2$)')\n",
    "ax.set_ylabel('Building Age (Years)')\n",
    "ax.set_zlabel('Rent ($)')\n",
    "\n",
    "ax.w_xaxis.set_ticklabels([])\n",
    "ax.w_yaxis.set_ticklabels([])\n",
    "ax.w_zaxis.set_ticklabels([])\n",
    "\n",
    "# Add the code below:\n",
    "plt.show()"
   ]
  },
  {
   "cell_type": "markdown",
   "id": "803a82aa",
   "metadata": {},
   "source": [
    "## Training vs Testing"
   ]
  },
  {
   "cell_type": "raw",
   "id": "46d83745",
   "metadata": {},
   "source": [
    "Training Set vs. Test Set\n",
    "As with most machine learning algorithms, we have to split our dataset into:\n",
    "\n",
    "Training set: the data used to fit the model\n",
    "Test set: the data partitioned away at the very start of the experiment (to provide an unbiased evaluation of the model)\n",
    "Training Set vs. Testing Set\n",
    "\n",
    "In general, putting 80% of your data in the training set and 20% of your data in the test set is a good place to start.\n",
    "\n",
    "Suppose you have some values in x and some values in y:\n",
    "\n",
    "\n",
    "    from sklearn.model_selection import train_test_split\n",
    "\n",
    "    x_train, x_test, y_train, y_test = train_test_split(x, y, train_size=0.8, test_size=0.2)\n",
    "\n",
    "Here are the parameters:\n",
    "\n",
    "train_size: the proportion of the dataset to include in the train split (between 0.0 and 1.0)\n",
    "test_size: the proportion of the dataset to include in the test split (between 0.0 and 1.0)\n",
    "random_state: the seed used by the random number generator [optional]"
   ]
  },
  {
   "cell_type": "markdown",
   "id": "a2789c5b",
   "metadata": {},
   "source": [
    "## Using Sklearn"
   ]
  },
  {
   "cell_type": "raw",
   "id": "c5414c40",
   "metadata": {},
   "source": [
    "Multiple Linear Regression: Scikit-Learn\n",
    "Now we have the training set and the test set, let’s use scikit-learn to build the linear regression model!\n",
    "\n",
    "The steps for multiple linear regression in scikit-learn are identical to the steps for simple linear regression. Just like simple linear regression, we need to import LinearRegression from the linear_model module:\n",
    "\n",
    "    from sklearn.linear_model import LinearRegression\n",
    "\n",
    "Then, create a LinearRegression model, and then fit it to your x_train and y_train data:\n",
    "\n",
    "    mlr = LinearRegression()\n",
    "\n",
    "    mlr.fit(x_train, y_train) \n",
    "# finds the coefficients and the intercept value\n",
    "\n",
    "We can also use the .predict() function to pass in x-values. It returns the y-values that this plane would predict:\n",
    "\n",
    "    y_predicted = mlr.predict(x_test)\n",
    "# takes values calculated by `.fit()` and the `x` values, plugs them into the multiple linear regression equation, and calculates the predicted y values. "
   ]
  },
  {
   "cell_type": "code",
   "execution_count": null,
   "id": "c362ceb5",
   "metadata": {},
   "outputs": [],
   "source": [
    "#Example excercise done with sklearn so do with other dataset\n",
    "import codecademylib3_seaborn\n",
    "import matplotlib.pyplot as plt\n",
    "import pandas as pd\n",
    "\n",
    "from sklearn.model_selection import train_test_split\n",
    "from sklearn.linear_model import LinearRegression\n",
    "\n",
    "streeteasy = pd.read_csv(\"https://raw.githubusercontent.com/sonnynomnom/Codecademy-Machine-Learning-Fundamentals/master/StreetEasy/manhattan.csv\")\n",
    "\n",
    "df = pd.DataFrame(streeteasy)\n",
    "\n",
    "x = df[['bedrooms', 'bathrooms', 'size_sqft', 'min_to_subway', 'floor', 'building_age_yrs', 'no_fee', 'has_roofdeck', 'has_washer_dryer', 'has_doorman', 'has_elevator', 'has_dishwasher', 'has_patio', 'has_gym']]\n",
    "\n",
    "y = df[['rent']]\n",
    "\n",
    "x_train, x_test, y_train, y_test = train_test_split(x, y, train_size = 0.8, test_size = 0.2, random_state=6)\n",
    "\n",
    "# Add the code here:\n",
    "mlr=LinearRegression()\n",
    "mlr.fit(x_train,y_train)\n",
    "y_predict=mlr.predict(x_test)\n",
    "\n",
    "# Sonny doesn't have an elevator so the 11th item in the list is a 0\n",
    "sonny_apartment = [[1, 1, 620, 16, 1, 98, 1, 0, 1, 0, 0, 1, 1, 0]]\n",
    "\n",
    "predict = mlr.predict(sonny_apartment)\n",
    "\n",
    "print(\"Predicted rent: $%.2f\" % predict)\n",
    "#can have accuracy checking and scores(r2) here also\n",
    "\n"
   ]
  },
  {
   "cell_type": "markdown",
   "id": "feb4f1f4",
   "metadata": {},
   "source": [
    "## Ploting using Matlpotlib"
   ]
  },
  {
   "cell_type": "raw",
   "id": "a585aff9",
   "metadata": {},
   "source": [
    "Visualizing Results with Matplotlib\n",
    "You’ve performed Multiple Linear Regression, and you also have the predictions in y_predict. However, we don’t have insight into the data, yet. In this exercise, you’ll create a 2D scatterplot to see how the independent variables impact prices.\n",
    "\n",
    "How do you create 2D graphs?\n",
    "\n",
    "Graphs can be created using Matplotlib’s pyplot module. Here is the code with inline comments explaining how to plot using Matplotlib’s .scatter():\n",
    "\n",
    "# Create a scatter plot\n",
    "plt.scatter(x, y, alpha=0.4)\n",
    "\n",
    "# Create x-axis label and y-axis label\n",
    "plt.xlabel(\"the x-axis label\")\n",
    "plt.ylabel(\"the y-axis label\")\n",
    "\n",
    "# Create a title\n",
    "plt.title(\"title!\")\n",
    "\n",
    "# Show the plot\n",
    "plt.show()"
   ]
  },
  {
   "cell_type": "code",
   "execution_count": null,
   "id": "1e92ebd1",
   "metadata": {},
   "outputs": [],
   "source": [
    "#example just learn code after finding y predict and all then to visualize\n",
    "import codecademylib3_seaborn\n",
    "import matplotlib.pyplot as plt\n",
    "import pandas as pd\n",
    "\n",
    "from sklearn.model_selection import train_test_split\n",
    "from sklearn.linear_model import LinearRegression\n",
    "\n",
    "streeteasy = pd.read_csv(\"https://raw.githubusercontent.com/sonnynomnom/Codecademy-Machine-Learning-Fundamentals/master/StreetEasy/manhattan.csv\")\n",
    "\n",
    "df = pd.DataFrame(streeteasy)\n",
    "\n",
    "x = df[['bedrooms', 'bathrooms', 'size_sqft', 'min_to_subway', 'floor', 'building_age_yrs', 'no_fee', 'has_roofdeck', 'has_washer_dryer', 'has_doorman', 'has_elevator', 'has_dishwasher', 'has_patio', 'has_gym']]\n",
    "\n",
    "y = df[['rent']]\n",
    "\n",
    "x_train, x_test, y_train, y_test = train_test_split(x, y, train_size = 0.8, test_size = 0.2, random_state=6)\n",
    "\n",
    "lm = LinearRegression()\n",
    "\n",
    "model=lm.fit(x_train, y_train)\n",
    "\n",
    "y_predict = lm.predict(x_test)\n",
    "\n",
    "plt.scatter(y_test,y_predict)\n",
    "plt.xlabel(\"Prices: $Y_i$\")\n",
    "plt.ylabel(\"Predicted prices: $\\hat{Y}_i$\")\n",
    "plt.title(\"Actual Rent vs Predicted Rent\")\n",
    "plt.show()"
   ]
  },
  {
   "cell_type": "markdown",
   "id": "59c444d5",
   "metadata": {},
   "source": [
    "## Multiple Linear Regression-equations"
   ]
  },
  {
   "cell_type": "raw",
   "id": "f31d220c",
   "metadata": {},
   "source": [
    "Multiple Linear Regression Equation\n",
    "Now that we have implemented Multiple Linear Regression, we will learn how to tune and evaluate the model. Before we do that, however, it’s essential to learn the equation behind it.\n",
    "\n",
    "Equation 6.1 The equation for multiple linear regression that uses two independent variables is this:\n",
    "  y=b+m1x1+m2x2\n",
    "Equation 6.2 The equation for multiple linear regression that uses three independent variables is this:\n",
    "  y=b+m1x1+m2x2+m3x3\n",
    " \n",
    "Equation 6.3 As a result, since multiple linear regression can use any number of independent variables, its general equation becomes:\n",
    "\n",
    "  y=b+m1x1+m2x2+m3x3+…+mnxn\n",
    "Here, m1, m2, m3, … mn refer to the coefficients, and b refers to the intercept that you want to find. You can plug these values back into the equation to compute the predicted y values.\n",
    "\n",
    "Remember, with sklearn‘s LinearRegression() method, we can get these values with ease.\n",
    "\n",
    "The .fit() method gives the model two variables that are useful to us:\n",
    "\n",
    ".coef_, which contains the coefficients\n",
    ".intercept_, which contains the intercept\n",
    "After performing multiple linear regression, you can print the coefficients using .coef_.\n",
    "\n",
    "Coefficients are most helpful in determining which independent variable carries more weight. For example, a coefficient of -1.345 will impact the rent more than a coefficient of 0.238, with the former impacting prices negatively and latter positively.\n",
    "\n",
    "we can get coeff and intercept from model directly with help of \n",
    "\n",
    "coef_ and intercept_ functions"
   ]
  },
  {
   "cell_type": "markdown",
   "id": "6a1a8e30",
   "metadata": {},
   "source": [
    "## Correlations"
   ]
  },
  {
   "cell_type": "raw",
   "id": "b5f4afb4",
   "metadata": {},
   "source": [
    "Correlations\n",
    "In our Manhattan model, we used 14 variables, so there are 14 coefficients:\n",
    "\n",
    "\n",
    "Explain\n",
    "[ -302.73009383  1199.3859951  4.79976742 \n",
    " -24.28993151  24.19824177 -7.58272473  \n",
    "-140.90664773  48.85017415 191.4257324  \n",
    "-151.11453388  89.408889  -57.89714551  \n",
    "-19.31948556  -38.92369828 ]\n",
    "\n",
    "bedrooms - number of bedrooms\n",
    "bathrooms - number of bathrooms\n",
    "size_sqft - size in square feet\n",
    "min_to_subway - distance from subway station in minutes\n",
    "floor - floor number\n",
    "building_age_yrs - building’s age in years\n",
    "no_fee - has no broker fee (0 for fee, 1 for no fee)\n",
    "has_roofdeck - has roof deck (0 for no, 1 for yes)\n",
    "has_washer_dryer - has in-unit washer/dryer (0/1)\n",
    "has_doorman - has doorman (0/1)\n",
    "has_elevator - has elevator (0/1)\n",
    "has_dishwasher - has dishwasher (0/1)\n",
    "has_patio - has patio (0/1)\n",
    "has_gym - has gym (0/1)\n",
    "To see if there are any features that don’t affect price linearly, let’s graph the different features against rent.\n",
    "\n",
    "Interpreting graphs\n",
    "\n",
    "In regression, the independent variables will either have a positive linear relationship to the dependent variable, a negative linear relationship, or no relationship. A negative linear relationship means that as X values increase, Y values will decrease. Similarly, a positive linear relationship means that as X values increase, Y values will also increase.\n",
    "\n",
    "Graphically, when you see a downward trend, it means a negative linear relationship exists. When you find an upward trend, it indicates a positive linear relationship.\n",
    "\n",
    "So it is better to usually see the relationships between the independent variables and the dependent variable for our better understanding\n",
    "\n",
    "!!IMPORTANT!!\n",
    "The alpha parameter is added to better understand overlapping of points (0.0 transparent - 1.0 opaque).\n",
    "\n",
    "When using the Pandas library, double square brackets will output a DataFrame and single square brackets will output a Series. In our code, we used double square brackets such as df[['size_sqft']], to plot size_sqft as a DataFrame Column."
   ]
  },
  {
   "cell_type": "markdown",
   "id": "8e1f20fe",
   "metadata": {},
   "source": [
    "## Evaluation of models accuracy-R2"
   ]
  },
  {
   "cell_type": "raw",
   "id": "3c724dd5",
   "metadata": {},
   "source": [
    "Evaluating the Model's Accuracy\n",
    "When trying to evaluate the accuracy of our multiple linear regression model, one technique we can use is Residual Analysis.\n",
    "\n",
    "The difference between the actual value y, and the predicted value ŷ is the residual e. The equation is:\n",
    "    \n",
    "        e=y-ŷ\n",
    "     \n",
    "In the StreetEasy dataset, y is the actual rent and the ŷ is the predicted rent. The real y values should be pretty close to these predicted y values.\n",
    "\n",
    "sklearn‘s linear_model.LinearRegression comes with a .score() method that returns the coefficient of determination R² of the prediction.\n",
    "\n",
    "The coefficient R² is defined as:\n",
    "\n",
    "    R² = 1 - (v / u)\n",
    " \n",
    "where u is the residual sum of squares:\n",
    "\n",
    "    ((y - y_predict) ** 2).sum()\n",
    "\n",
    "and v is the total sum of squares (TSS):\n",
    "\n",
    "    ((y - y.mean()) ** 2).sum()\n",
    "\n",
    "The TSS tells you how much variation there is in the y variable.\n",
    "\n",
    "R² is the percentage variation in y explained by all the x variables together.\n",
    "\n",
    "For example, say we are trying to predict rent based on the size_sqft and the bedrooms in the apartment and the R² for our model is 0.72 — that means that all the x variables (square feet and number of bedrooms) together explain 72% variation in y (rent).\n",
    "\n",
    "Now let’s say we add another x variable, building’s age, to our model. By adding this third relevant x variable, the R² is expected to go up. Let say the new R² is 0.95. This means that square feet, number of bedrooms and age of the building together explain 95% of the variation in the rent.\n",
    "\n",
    "The best possible R² is 1.00 (and it can be negative because the model can be arbitrarily worse). Usually, a \n",
    "R² of 0.70 is considered good.\n",
    "\n",
    "direct .score() method we can use to get the R2 score\n",
    "ex\n",
    "    print(\"Train score:\")\n",
    "    print(mlr.score(x_train, y_train)) \n",
    "    \n",
    "    print(\"test score:\")\n",
    "    print(mlr.score(x_test, y_test))\n",
    "    requires x and y do for both sets test and train \n",
    "    \n",
    "If you want to graph a scatter plot of residuals vs. predicted_y values:    \n",
    "residuals = y_predict - y_test\n",
    "\n",
    "plt.scatter(y_predict, residuals, alpha=0.4)\n",
    "plt.title('Residual Analysis')\n",
    "\n",
    "plt.show()"
   ]
  },
  {
   "cell_type": "markdown",
   "id": "6c6f332e",
   "metadata": {},
   "source": [
    "## Imporve the model"
   ]
  },
  {
   "cell_type": "markdown",
   "id": "e43949e1",
   "metadata": {},
   "source": [
    "when done sometimes some features are not required and all happens so removing those can be done for that view the weights\n",
    "i.e the coeffecients view and see the scores(how much of variation of dependent variable is explained by independent variable)\n",
    "so do changes and see which is better "
   ]
  },
  {
   "cell_type": "raw",
   "id": "dc99176e",
   "metadata": {},
   "source": [
    "Review\n",
    "Great work! Let’s review the concepts before you move on:\n",
    "\n",
    "Multiple Linear Regression uses two or more variables to make predictions about another variable:\n",
    "    y=b+m1x1+m2x2+m3x3+...+mnxn\n",
    "    y=dependent variable\n",
    "    x1=first independent variable\n",
    "    x2=second independent variable\n",
    "    x3=third independent variable\n",
    "    ...\n",
    "    xn=last independent variable\n",
    "    b=intercept\n",
    " \n",
    "Multiple linear regression uses a set of independent variables and a dependent variable. It uses these variables to learn how to find optimal parameters. It takes a labeled dataset and learns from it. Once we confirm that it’s learned correctly, we can then use it to make predictions by plugging in new x values.\n",
    "\n",
    "We can use scikit-learn’s LinearRegression() to perform multiple linear regression.\n",
    "\n",
    "Residual Analysis is used to evaluate the regression model’s accuracy. In other words, it’s used to see if the model has learned the coefficients correctly.\n",
    "\n",
    "Scikit-learn’s linear_model.LinearRegression comes with a .score() method that returns the coefficient of determination R² of the prediction. The best score is 1.0.\n",
    "\n",
    "https://static-assets.codecademy.com/content/codecademy-content-sites/streeteasy/rent.html(gui done so that to predict)"
   ]
  },
  {
   "cell_type": "markdown",
   "id": "4342aa34",
   "metadata": {},
   "source": [
    "# Excersie-Practice"
   ]
  },
  {
   "cell_type": "code",
   "execution_count": 33,
   "id": "f27ae0e5",
   "metadata": {},
   "outputs": [],
   "source": [
    "import pandas as pd\n",
    "import numpy as np\n",
    "import matplotlib.pyplot as plt\n",
    "import seaborn as sns\n",
    "from sklearn.linear_model import LinearRegression\n",
    "from sklearn.model_selection import train_test_split\n",
    "from sklearn.metrics import mean_squared_error"
   ]
  },
  {
   "cell_type": "code",
   "execution_count": 4,
   "id": "912042f7",
   "metadata": {},
   "outputs": [],
   "source": [
    "df=pd.read_csv(\"insurance.csv\")"
   ]
  },
  {
   "cell_type": "code",
   "execution_count": 5,
   "id": "49ff8d23",
   "metadata": {},
   "outputs": [
    {
     "data": {
      "text/html": [
       "<div>\n",
       "<style scoped>\n",
       "    .dataframe tbody tr th:only-of-type {\n",
       "        vertical-align: middle;\n",
       "    }\n",
       "\n",
       "    .dataframe tbody tr th {\n",
       "        vertical-align: top;\n",
       "    }\n",
       "\n",
       "    .dataframe thead th {\n",
       "        text-align: right;\n",
       "    }\n",
       "</style>\n",
       "<table border=\"1\" class=\"dataframe\">\n",
       "  <thead>\n",
       "    <tr style=\"text-align: right;\">\n",
       "      <th></th>\n",
       "      <th>age</th>\n",
       "      <th>sex</th>\n",
       "      <th>bmi</th>\n",
       "      <th>children</th>\n",
       "      <th>smoker</th>\n",
       "      <th>region</th>\n",
       "      <th>charges</th>\n",
       "    </tr>\n",
       "  </thead>\n",
       "  <tbody>\n",
       "    <tr>\n",
       "      <th>0</th>\n",
       "      <td>19</td>\n",
       "      <td>female</td>\n",
       "      <td>27.900</td>\n",
       "      <td>0</td>\n",
       "      <td>yes</td>\n",
       "      <td>southwest</td>\n",
       "      <td>16884.92400</td>\n",
       "    </tr>\n",
       "    <tr>\n",
       "      <th>1</th>\n",
       "      <td>18</td>\n",
       "      <td>male</td>\n",
       "      <td>33.770</td>\n",
       "      <td>1</td>\n",
       "      <td>no</td>\n",
       "      <td>southeast</td>\n",
       "      <td>1725.55230</td>\n",
       "    </tr>\n",
       "    <tr>\n",
       "      <th>2</th>\n",
       "      <td>28</td>\n",
       "      <td>male</td>\n",
       "      <td>33.000</td>\n",
       "      <td>3</td>\n",
       "      <td>no</td>\n",
       "      <td>southeast</td>\n",
       "      <td>4449.46200</td>\n",
       "    </tr>\n",
       "    <tr>\n",
       "      <th>3</th>\n",
       "      <td>33</td>\n",
       "      <td>male</td>\n",
       "      <td>22.705</td>\n",
       "      <td>0</td>\n",
       "      <td>no</td>\n",
       "      <td>northwest</td>\n",
       "      <td>21984.47061</td>\n",
       "    </tr>\n",
       "    <tr>\n",
       "      <th>4</th>\n",
       "      <td>32</td>\n",
       "      <td>male</td>\n",
       "      <td>28.880</td>\n",
       "      <td>0</td>\n",
       "      <td>no</td>\n",
       "      <td>northwest</td>\n",
       "      <td>3866.85520</td>\n",
       "    </tr>\n",
       "  </tbody>\n",
       "</table>\n",
       "</div>"
      ],
      "text/plain": [
       "   age     sex     bmi  children smoker     region      charges\n",
       "0   19  female  27.900         0    yes  southwest  16884.92400\n",
       "1   18    male  33.770         1     no  southeast   1725.55230\n",
       "2   28    male  33.000         3     no  southeast   4449.46200\n",
       "3   33    male  22.705         0     no  northwest  21984.47061\n",
       "4   32    male  28.880         0     no  northwest   3866.85520"
      ]
     },
     "execution_count": 5,
     "metadata": {},
     "output_type": "execute_result"
    }
   ],
   "source": [
    "df.head()"
   ]
  },
  {
   "cell_type": "code",
   "execution_count": 6,
   "id": "6b157141",
   "metadata": {},
   "outputs": [
    {
     "name": "stdout",
     "output_type": "stream",
     "text": [
      "<class 'pandas.core.frame.DataFrame'>\n",
      "RangeIndex: 1338 entries, 0 to 1337\n",
      "Data columns (total 7 columns):\n",
      " #   Column    Non-Null Count  Dtype  \n",
      "---  ------    --------------  -----  \n",
      " 0   age       1338 non-null   int64  \n",
      " 1   sex       1338 non-null   object \n",
      " 2   bmi       1338 non-null   float64\n",
      " 3   children  1338 non-null   int64  \n",
      " 4   smoker    1338 non-null   object \n",
      " 5   region    1338 non-null   object \n",
      " 6   charges   1338 non-null   float64\n",
      "dtypes: float64(2), int64(2), object(3)\n",
      "memory usage: 73.3+ KB\n"
     ]
    }
   ],
   "source": [
    "df.info()"
   ]
  },
  {
   "cell_type": "code",
   "execution_count": 7,
   "id": "234e242c",
   "metadata": {},
   "outputs": [
    {
     "data": {
      "text/plain": [
       "(1338, 7)"
      ]
     },
     "execution_count": 7,
     "metadata": {},
     "output_type": "execute_result"
    }
   ],
   "source": [
    "df.shape"
   ]
  },
  {
   "cell_type": "code",
   "execution_count": 8,
   "id": "0f969d3c",
   "metadata": {},
   "outputs": [
    {
     "data": {
      "text/plain": [
       "age         0\n",
       "sex         0\n",
       "bmi         0\n",
       "children    0\n",
       "smoker      0\n",
       "region      0\n",
       "charges     0\n",
       "dtype: int64"
      ]
     },
     "execution_count": 8,
     "metadata": {},
     "output_type": "execute_result"
    }
   ],
   "source": [
    "df.isnull().sum()"
   ]
  },
  {
   "cell_type": "code",
   "execution_count": 9,
   "id": "4cd95d53",
   "metadata": {},
   "outputs": [
    {
     "data": {
      "text/html": [
       "<div>\n",
       "<style scoped>\n",
       "    .dataframe tbody tr th:only-of-type {\n",
       "        vertical-align: middle;\n",
       "    }\n",
       "\n",
       "    .dataframe tbody tr th {\n",
       "        vertical-align: top;\n",
       "    }\n",
       "\n",
       "    .dataframe thead th {\n",
       "        text-align: right;\n",
       "    }\n",
       "</style>\n",
       "<table border=\"1\" class=\"dataframe\">\n",
       "  <thead>\n",
       "    <tr style=\"text-align: right;\">\n",
       "      <th></th>\n",
       "      <th>age</th>\n",
       "      <th>bmi</th>\n",
       "      <th>children</th>\n",
       "      <th>charges</th>\n",
       "    </tr>\n",
       "  </thead>\n",
       "  <tbody>\n",
       "    <tr>\n",
       "      <th>count</th>\n",
       "      <td>1338.000000</td>\n",
       "      <td>1338.000000</td>\n",
       "      <td>1338.000000</td>\n",
       "      <td>1338.000000</td>\n",
       "    </tr>\n",
       "    <tr>\n",
       "      <th>mean</th>\n",
       "      <td>39.207025</td>\n",
       "      <td>30.663397</td>\n",
       "      <td>1.094918</td>\n",
       "      <td>13270.422265</td>\n",
       "    </tr>\n",
       "    <tr>\n",
       "      <th>std</th>\n",
       "      <td>14.049960</td>\n",
       "      <td>6.098187</td>\n",
       "      <td>1.205493</td>\n",
       "      <td>12110.011237</td>\n",
       "    </tr>\n",
       "    <tr>\n",
       "      <th>min</th>\n",
       "      <td>18.000000</td>\n",
       "      <td>15.960000</td>\n",
       "      <td>0.000000</td>\n",
       "      <td>1121.873900</td>\n",
       "    </tr>\n",
       "    <tr>\n",
       "      <th>25%</th>\n",
       "      <td>27.000000</td>\n",
       "      <td>26.296250</td>\n",
       "      <td>0.000000</td>\n",
       "      <td>4740.287150</td>\n",
       "    </tr>\n",
       "    <tr>\n",
       "      <th>50%</th>\n",
       "      <td>39.000000</td>\n",
       "      <td>30.400000</td>\n",
       "      <td>1.000000</td>\n",
       "      <td>9382.033000</td>\n",
       "    </tr>\n",
       "    <tr>\n",
       "      <th>75%</th>\n",
       "      <td>51.000000</td>\n",
       "      <td>34.693750</td>\n",
       "      <td>2.000000</td>\n",
       "      <td>16639.912515</td>\n",
       "    </tr>\n",
       "    <tr>\n",
       "      <th>max</th>\n",
       "      <td>64.000000</td>\n",
       "      <td>53.130000</td>\n",
       "      <td>5.000000</td>\n",
       "      <td>63770.428010</td>\n",
       "    </tr>\n",
       "  </tbody>\n",
       "</table>\n",
       "</div>"
      ],
      "text/plain": [
       "               age          bmi     children       charges\n",
       "count  1338.000000  1338.000000  1338.000000   1338.000000\n",
       "mean     39.207025    30.663397     1.094918  13270.422265\n",
       "std      14.049960     6.098187     1.205493  12110.011237\n",
       "min      18.000000    15.960000     0.000000   1121.873900\n",
       "25%      27.000000    26.296250     0.000000   4740.287150\n",
       "50%      39.000000    30.400000     1.000000   9382.033000\n",
       "75%      51.000000    34.693750     2.000000  16639.912515\n",
       "max      64.000000    53.130000     5.000000  63770.428010"
      ]
     },
     "execution_count": 9,
     "metadata": {},
     "output_type": "execute_result"
    }
   ],
   "source": [
    "df.describe()"
   ]
  },
  {
   "cell_type": "code",
   "execution_count": 10,
   "id": "abc7c1f2",
   "metadata": {},
   "outputs": [
    {
     "data": {
      "text/plain": [
       "male      676\n",
       "female    662\n",
       "Name: sex, dtype: int64"
      ]
     },
     "execution_count": 10,
     "metadata": {},
     "output_type": "execute_result"
    }
   ],
   "source": [
    "df.sex.value_counts()"
   ]
  },
  {
   "cell_type": "code",
   "execution_count": 11,
   "id": "b2cae207",
   "metadata": {},
   "outputs": [],
   "source": [
    "sex={'female':0,'male':1}\n",
    "df['sex']=df['sex'].map(sex)"
   ]
  },
  {
   "cell_type": "code",
   "execution_count": 12,
   "id": "d0fa3378",
   "metadata": {},
   "outputs": [
    {
     "data": {
      "text/plain": [
       "no     1064\n",
       "yes     274\n",
       "Name: smoker, dtype: int64"
      ]
     },
     "execution_count": 12,
     "metadata": {},
     "output_type": "execute_result"
    }
   ],
   "source": [
    "df.smoker.value_counts()"
   ]
  },
  {
   "cell_type": "code",
   "execution_count": 14,
   "id": "fd6dfd28",
   "metadata": {},
   "outputs": [],
   "source": [
    "smoker={'yes':1,'no':0}\n",
    "df['smoker']=df['smoker'].map(smoker)"
   ]
  },
  {
   "cell_type": "code",
   "execution_count": 15,
   "id": "0547ce7e",
   "metadata": {},
   "outputs": [
    {
     "data": {
      "text/plain": [
       "southeast    364\n",
       "southwest    325\n",
       "northwest    325\n",
       "northeast    324\n",
       "Name: region, dtype: int64"
      ]
     },
     "execution_count": 15,
     "metadata": {},
     "output_type": "execute_result"
    }
   ],
   "source": [
    "df.region.value_counts()"
   ]
  },
  {
   "cell_type": "code",
   "execution_count": 16,
   "id": "927d5976",
   "metadata": {},
   "outputs": [],
   "source": [
    "region={'southwest':0,'southeast':1,'northwest':2,'northeast':3}\n",
    "df['region']=df['region'].map(region)"
   ]
  },
  {
   "cell_type": "code",
   "execution_count": 17,
   "id": "afceba01",
   "metadata": {},
   "outputs": [
    {
     "data": {
      "text/html": [
       "<div>\n",
       "<style scoped>\n",
       "    .dataframe tbody tr th:only-of-type {\n",
       "        vertical-align: middle;\n",
       "    }\n",
       "\n",
       "    .dataframe tbody tr th {\n",
       "        vertical-align: top;\n",
       "    }\n",
       "\n",
       "    .dataframe thead th {\n",
       "        text-align: right;\n",
       "    }\n",
       "</style>\n",
       "<table border=\"1\" class=\"dataframe\">\n",
       "  <thead>\n",
       "    <tr style=\"text-align: right;\">\n",
       "      <th></th>\n",
       "      <th>age</th>\n",
       "      <th>sex</th>\n",
       "      <th>bmi</th>\n",
       "      <th>children</th>\n",
       "      <th>smoker</th>\n",
       "      <th>region</th>\n",
       "      <th>charges</th>\n",
       "    </tr>\n",
       "  </thead>\n",
       "  <tbody>\n",
       "    <tr>\n",
       "      <th>0</th>\n",
       "      <td>19</td>\n",
       "      <td>0</td>\n",
       "      <td>27.900</td>\n",
       "      <td>0</td>\n",
       "      <td>1</td>\n",
       "      <td>0</td>\n",
       "      <td>16884.92400</td>\n",
       "    </tr>\n",
       "    <tr>\n",
       "      <th>1</th>\n",
       "      <td>18</td>\n",
       "      <td>1</td>\n",
       "      <td>33.770</td>\n",
       "      <td>1</td>\n",
       "      <td>0</td>\n",
       "      <td>1</td>\n",
       "      <td>1725.55230</td>\n",
       "    </tr>\n",
       "    <tr>\n",
       "      <th>2</th>\n",
       "      <td>28</td>\n",
       "      <td>1</td>\n",
       "      <td>33.000</td>\n",
       "      <td>3</td>\n",
       "      <td>0</td>\n",
       "      <td>1</td>\n",
       "      <td>4449.46200</td>\n",
       "    </tr>\n",
       "    <tr>\n",
       "      <th>3</th>\n",
       "      <td>33</td>\n",
       "      <td>1</td>\n",
       "      <td>22.705</td>\n",
       "      <td>0</td>\n",
       "      <td>0</td>\n",
       "      <td>2</td>\n",
       "      <td>21984.47061</td>\n",
       "    </tr>\n",
       "    <tr>\n",
       "      <th>4</th>\n",
       "      <td>32</td>\n",
       "      <td>1</td>\n",
       "      <td>28.880</td>\n",
       "      <td>0</td>\n",
       "      <td>0</td>\n",
       "      <td>2</td>\n",
       "      <td>3866.85520</td>\n",
       "    </tr>\n",
       "  </tbody>\n",
       "</table>\n",
       "</div>"
      ],
      "text/plain": [
       "   age  sex     bmi  children  smoker  region      charges\n",
       "0   19    0  27.900         0       1       0  16884.92400\n",
       "1   18    1  33.770         1       0       1   1725.55230\n",
       "2   28    1  33.000         3       0       1   4449.46200\n",
       "3   33    1  22.705         0       0       2  21984.47061\n",
       "4   32    1  28.880         0       0       2   3866.85520"
      ]
     },
     "execution_count": 17,
     "metadata": {},
     "output_type": "execute_result"
    }
   ],
   "source": [
    "df.head()"
   ]
  },
  {
   "cell_type": "code",
   "execution_count": 20,
   "id": "c8549da2",
   "metadata": {},
   "outputs": [],
   "source": [
    "corr=df.corr()"
   ]
  },
  {
   "cell_type": "code",
   "execution_count": 21,
   "id": "7f7ebc67",
   "metadata": {},
   "outputs": [
    {
     "data": {
      "text/plain": [
       "<Axes: >"
      ]
     },
     "execution_count": 21,
     "metadata": {},
     "output_type": "execute_result"
    },
    {
     "data": {
      "image/png": "[encoded data removed]",
      "text/plain": [
       "<Figure size 640x480 with 2 Axes>"
      ]
     },
     "metadata": {},
     "output_type": "display_data"
    }
   ],
   "source": [
    "sns.heatmap(corr,annot=True)"
   ]
  },
  {
   "cell_type": "code",
   "execution_count": 36,
   "id": "2249ee55",
   "metadata": {},
   "outputs": [
    {
     "data": {
      "text/plain": [
       "<Axes: >"
      ]
     },
     "execution_count": 36,
     "metadata": {},
     "output_type": "execute_result"
    },
    {
     "data": {
      "image/png": "[encoded data removed]",
      "text/plain": [
       "<Figure size 640x480 with 1 Axes>"
      ]
     },
     "metadata": {},
     "output_type": "display_data"
    }
   ],
   "source": [
    "sns.boxplot(data=df)"
   ]
  },
  {
   "cell_type": "code",
   "execution_count": 22,
   "id": "eeff3fa4",
   "metadata": {},
   "outputs": [],
   "source": [
    "x=df[['age','sex','bmi','children','smoker','region']]"
   ]
  },
  {
   "cell_type": "code",
   "execution_count": 23,
   "id": "50826f8b",
   "metadata": {},
   "outputs": [],
   "source": [
    "y=df['charges']"
   ]
  },
  {
   "cell_type": "code",
   "execution_count": 24,
   "id": "14349097",
   "metadata": {},
   "outputs": [],
   "source": [
    "x_train,x_test,y_train,y_test=train_test_split(x,y,test_size=0.2,random_state=42)"
   ]
  },
  {
   "cell_type": "code",
   "execution_count": 25,
   "id": "a82f25ed",
   "metadata": {},
   "outputs": [
    {
     "data": {
      "text/html": [
       "<style>#sk-container-id-1 {color: black;background-color: white;}#sk-container-id-1 pre{padding: 0;}#sk-container-id-1 div.sk-toggleable {background-color: white;}#sk-container-id-1 label.sk-toggleable__label {cursor: pointer;display: block;width: 100%;margin-bottom: 0;padding: 0.3em;box-sizing: border-box;text-align: center;}#sk-container-id-1 label.sk-toggleable__label-arrow:before {content: \"▸\";float: left;margin-right: 0.25em;color: #696969;}#sk-container-id-1 label.sk-toggleable__label-arrow:hover:before {color: black;}#sk-container-id-1 div.sk-estimator:hover label.sk-toggleable__label-arrow:before {color: black;}#sk-container-id-1 div.sk-toggleable__content {max-height: 0;max-width: 0;overflow: hidden;text-align: left;background-color: #f0f8ff;}#sk-container-id-1 div.sk-toggleable__content pre {margin: 0.2em;color: black;border-radius: 0.25em;background-color: #f0f8ff;}#sk-container-id-1 input.sk-toggleable__control:checked~div.sk-toggleable__content {max-height: 200px;max-width: 100%;overflow: auto;}#sk-container-id-1 input.sk-toggleable__control:checked~label.sk-toggleable__label-arrow:before {content: \"▾\";}#sk-container-id-1 div.sk-estimator input.sk-toggleable__control:checked~label.sk-toggleable__label {background-color: #d4ebff;}#sk-container-id-1 div.sk-label input.sk-toggleable__control:checked~label.sk-toggleable__label {background-color: #d4ebff;}#sk-container-id-1 input.sk-hidden--visually {border: 0;clip: rect(1px 1px 1px 1px);clip: rect(1px, 1px, 1px, 1px);height: 1px;margin: -1px;overflow: hidden;padding: 0;position: absolute;width: 1px;}#sk-container-id-1 div.sk-estimator {font-family: monospace;background-color: #f0f8ff;border: 1px dotted black;border-radius: 0.25em;box-sizing: border-box;margin-bottom: 0.5em;}#sk-container-id-1 div.sk-estimator:hover {background-color: #d4ebff;}#sk-container-id-1 div.sk-parallel-item::after {content: \"\";width: 100%;border-bottom: 1px solid gray;flex-grow: 1;}#sk-container-id-1 div.sk-label:hover label.sk-toggleable__label {background-color: #d4ebff;}#sk-container-id-1 div.sk-serial::before {content: \"\";position: absolute;border-left: 1px solid gray;box-sizing: border-box;top: 0;bottom: 0;left: 50%;z-index: 0;}#sk-container-id-1 div.sk-serial {display: flex;flex-direction: column;align-items: center;background-color: white;padding-right: 0.2em;padding-left: 0.2em;position: relative;}#sk-container-id-1 div.sk-item {position: relative;z-index: 1;}#sk-container-id-1 div.sk-parallel {display: flex;align-items: stretch;justify-content: center;background-color: white;position: relative;}#sk-container-id-1 div.sk-item::before, #sk-container-id-1 div.sk-parallel-item::before {content: \"\";position: absolute;border-left: 1px solid gray;box-sizing: border-box;top: 0;bottom: 0;left: 50%;z-index: -1;}#sk-container-id-1 div.sk-parallel-item {display: flex;flex-direction: column;z-index: 1;position: relative;background-color: white;}#sk-container-id-1 div.sk-parallel-item:first-child::after {align-self: flex-end;width: 50%;}#sk-container-id-1 div.sk-parallel-item:last-child::after {align-self: flex-start;width: 50%;}#sk-container-id-1 div.sk-parallel-item:only-child::after {width: 0;}#sk-container-id-1 div.sk-dashed-wrapped {border: 1px dashed gray;margin: 0 0.4em 0.5em 0.4em;box-sizing: border-box;padding-bottom: 0.4em;background-color: white;}#sk-container-id-1 div.sk-label label {font-family: monospace;font-weight: bold;display: inline-block;line-height: 1.2em;}#sk-container-id-1 div.sk-label-container {text-align: center;}#sk-container-id-1 div.sk-container {/* jupyter's `normalize.less` sets `[hidden] { display: none; }` but bootstrap.min.css set `[hidden] { display: none !important; }` so we also need the `!important` here to be able to override the default hidden behavior on the sphinx rendered scikit-learn.org. See: https://github.com/scikit-learn/scikit-learn/issues/21755 */display: inline-block !important;position: relative;}#sk-container-id-1 div.sk-text-repr-fallback {display: none;}</style><div id=\"sk-container-id-1\" class=\"sk-top-container\"><div class=\"sk-text-repr-fallback\"><pre>LinearRegression()</pre><b>In a Jupyter environment, please rerun this cell to show the HTML representation or trust the notebook. <br />On GitHub, the HTML representation is unable to render, please try loading this page with nbviewer.org.</b></div><div class=\"sk-container\" hidden><div class=\"sk-item\"><div class=\"sk-estimator sk-toggleable\"><input class=\"sk-toggleable__control sk-hidden--visually\" id=\"sk-estimator-id-1\" type=\"checkbox\" checked><label for=\"sk-estimator-id-1\" class=\"sk-toggleable__label sk-toggleable__label-arrow\">LinearRegression</label><div class=\"sk-toggleable__content\"><pre>LinearRegression()</pre></div></div></div></div></div>"
      ],
      "text/plain": [
       "LinearRegression()"
      ]
     },
     "execution_count": 25,
     "metadata": {},
     "output_type": "execute_result"
    }
   ],
   "source": [
    "model=LinearRegression()\n",
    "model.fit(x_train,y_train)#we always fit the model with train data not complet x and y(then predict with test data)\n"
   ]
  },
  {
   "cell_type": "code",
   "execution_count": 26,
   "id": "f80021d2",
   "metadata": {},
   "outputs": [
    {
     "data": {
      "text/plain": [
       "array([ 2.57056264e+02, -1.87914567e+01,  3.35781491e+02,  4.25091456e+02,\n",
       "        2.36478181e+04,  2.71284266e+02])"
      ]
     },
     "execution_count": 26,
     "metadata": {},
     "output_type": "execute_result"
    }
   ],
   "source": [
    "model.coef_"
   ]
  },
  {
   "cell_type": "code",
   "execution_count": 27,
   "id": "d38ffeac",
   "metadata": {},
   "outputs": [
    {
     "data": {
      "text/plain": [
       "-12760.459365293491"
      ]
     },
     "execution_count": 27,
     "metadata": {},
     "output_type": "execute_result"
    }
   ],
   "source": [
    "model.intercept_"
   ]
  },
  {
   "cell_type": "code",
   "execution_count": 28,
   "id": "6da27093",
   "metadata": {},
   "outputs": [
    {
     "data": {
      "text/plain": [
       "0.7833463107364539"
      ]
     },
     "execution_count": 28,
     "metadata": {},
     "output_type": "execute_result"
    }
   ],
   "source": [
    "model.score(x_test,y_test)#above 0.70 score is good"
   ]
  },
  {
   "cell_type": "code",
   "execution_count": 29,
   "id": "3b29f1d3",
   "metadata": {},
   "outputs": [],
   "source": [
    "y_pred=model.predict(x_test)"
   ]
  },
  {
   "cell_type": "code",
   "execution_count": 30,
   "id": "4a70d8ac",
   "metadata": {},
   "outputs": [
    {
     "data": {
      "text/plain": [
       "<Axes: xlabel='charges'>"
      ]
     },
     "execution_count": 30,
     "metadata": {},
     "output_type": "execute_result"
    },
    {
     "data": {
      "image/png": "[encoded data removed]",
      "text/plain": [
       "<Figure size 640x480 with 1 Axes>"
      ]
     },
     "metadata": {},
     "output_type": "display_data"
    }
   ],
   "source": [
    "sns.scatterplot(x=y_test,y=y_pred)"
   ]
  },
  {
   "cell_type": "code",
   "execution_count": 35,
   "id": "07d59468",
   "metadata": {},
   "outputs": [
    {
     "data": {
      "text/plain": [
       "33635210.431178406"
      ]
     },
     "execution_count": 35,
     "metadata": {},
     "output_type": "execute_result"
    }
   ],
   "source": [
    "mean_squared_error(y_test,y_pred)#for this we put the y_test and y_pred(accuracy and precison and recall not there for linear(as no for continuous values similarly ig confusion matrix wont come)so we use mean square error here)"
   ]
  },
  {
   "cell_type": "raw",
   "id": "908e665b",
   "metadata": {},
   "source": [
    "so this is just how we do of multiple linear regression\n",
    "nothing much indepent variables and dependent variable then fit it predict it and scores errors we see "
   ]
  }
 ],
 "metadata": {
  "kernelspec": {
   "display_name": "Python 3 (ipykernel)",
   "language": "python",
   "name": "python3"
  },
  "language_info": {
   "codemirror_mode": {
    "name": "ipython",
    "version": 3
   },
   "file_extension": ".py",
   "mimetype": "text/x-python",
   "name": "python",
   "nbconvert_exporter": "python",
   "pygments_lexer": "ipython3",
   "version": "3.10.9"
  }
 },
 "nbformat": 4,
 "nbformat_minor": 5
}
