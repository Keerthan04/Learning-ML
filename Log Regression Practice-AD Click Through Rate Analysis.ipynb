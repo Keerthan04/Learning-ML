{
 "cells": [
  {
   "cell_type": "markdown",
   "id": "94276004",
   "metadata": {},
   "source": [
    "# AD Click Through Rate Analysis"
   ]
  },
  {
   "cell_type": "raw",
   "id": "e5771c7e",
   "metadata": {},
   "source": [
    "Name: Keerthan Kumar C\n",
    "Manipal Institue of Technology"
   ]
  },
  {
   "cell_type": "markdown",
   "id": "6eb26a0d",
   "metadata": {},
   "source": [
    "Click-through rate is the ratio of users who clicked on an ad/link to the number of total users who left impressions on the ad/link. In simple words, clicks ÷ impressions = CTR. Analyzing the click-through rate helps companies determine the types of people most likely to click on their ads. A high CTR gives validation to your advertising strategies."
   ]
  },
  {
   "cell_type": "markdown",
   "id": "1856bf44",
   "metadata": {},
   "source": [
    "Below are all the features in the dataset:\n",
    "\n",
    "Daily Time Spent on Site: the daily timespan of the user on the website;\n",
    "\n",
    "Age: the age of the user;\n",
    "\n",
    "Area Income: the average income in the area of the user;\n",
    "\n",
    "Daily Internet Usage: the daily internet usage of the user;\n",
    "\n",
    "Ad Topic Line: the title of the ad;\n",
    "\n",
    "City: the city of the user;\n",
    "\n",
    "Gender: the gender of the user;\n",
    "\n",
    "Country: the country of the user;\n",
    "\n",
    "Timestamp: the time when the user visited the website;\n",
    "\n",
    "Clicked on Ad: 1 if the user clicked on the ad, otherwise 0;"
   ]
  },
  {
   "cell_type": "markdown",
   "id": "c0e05a6d",
   "metadata": {},
   "source": [
    "# Importing Libraries"
   ]
  },
  {
   "cell_type": "code",
   "execution_count": 38,
   "id": "e6ccbf94",
   "metadata": {},
   "outputs": [],
   "source": [
    "import pandas as pd\n",
    "import numpy as np\n",
    "import seaborn as sns\n",
    "import matplotlib.pyplot as plt"
   ]
  },
  {
   "cell_type": "markdown",
   "id": "d21bd8df",
   "metadata": {},
   "source": [
    "# EDA"
   ]
  },
  {
   "cell_type": "code",
   "execution_count": 39,
   "id": "f709ae6b",
   "metadata": {},
   "outputs": [
    {
     "data": {
      "text/html": [
       "<div>\n",
       "<style scoped>\n",
       "    .dataframe tbody tr th:only-of-type {\n",
       "        vertical-align: middle;\n",
       "    }\n",
       "\n",
       "    .dataframe tbody tr th {\n",
       "        vertical-align: top;\n",
       "    }\n",
       "\n",
       "    .dataframe thead th {\n",
       "        text-align: right;\n",
       "    }\n",
       "</style>\n",
       "<table border=\"1\" class=\"dataframe\">\n",
       "  <thead>\n",
       "    <tr style=\"text-align: right;\">\n",
       "      <th></th>\n",
       "      <th>Daily Time Spent on Site</th>\n",
       "      <th>Age</th>\n",
       "      <th>Area Income</th>\n",
       "      <th>Daily Internet Usage</th>\n",
       "      <th>Ad Topic Line</th>\n",
       "      <th>City</th>\n",
       "      <th>Gender</th>\n",
       "      <th>Country</th>\n",
       "      <th>Timestamp</th>\n",
       "      <th>Clicked on Ad</th>\n",
       "    </tr>\n",
       "  </thead>\n",
       "  <tbody>\n",
       "    <tr>\n",
       "      <th>0</th>\n",
       "      <td>62.26</td>\n",
       "      <td>32.0</td>\n",
       "      <td>69481.85</td>\n",
       "      <td>172.83</td>\n",
       "      <td>Decentralized real-time circuit</td>\n",
       "      <td>Lisafort</td>\n",
       "      <td>Male</td>\n",
       "      <td>Svalbard &amp; Jan Mayen Islands</td>\n",
       "      <td>2016-06-09 21:43:05</td>\n",
       "      <td>0</td>\n",
       "    </tr>\n",
       "    <tr>\n",
       "      <th>1</th>\n",
       "      <td>41.73</td>\n",
       "      <td>31.0</td>\n",
       "      <td>61840.26</td>\n",
       "      <td>207.17</td>\n",
       "      <td>Optional full-range projection</td>\n",
       "      <td>West Angelabury</td>\n",
       "      <td>Male</td>\n",
       "      <td>Singapore</td>\n",
       "      <td>2016-01-16 17:56:05</td>\n",
       "      <td>0</td>\n",
       "    </tr>\n",
       "    <tr>\n",
       "      <th>2</th>\n",
       "      <td>44.40</td>\n",
       "      <td>30.0</td>\n",
       "      <td>57877.15</td>\n",
       "      <td>172.83</td>\n",
       "      <td>Total 5thgeneration standardization</td>\n",
       "      <td>Reyesfurt</td>\n",
       "      <td>Female</td>\n",
       "      <td>Guadeloupe</td>\n",
       "      <td>2016-06-29 10:50:45</td>\n",
       "      <td>0</td>\n",
       "    </tr>\n",
       "    <tr>\n",
       "      <th>3</th>\n",
       "      <td>59.88</td>\n",
       "      <td>28.0</td>\n",
       "      <td>56180.93</td>\n",
       "      <td>207.17</td>\n",
       "      <td>Balanced empowering success</td>\n",
       "      <td>New Michael</td>\n",
       "      <td>Female</td>\n",
       "      <td>Zambia</td>\n",
       "      <td>2016-06-21 14:32:32</td>\n",
       "      <td>0</td>\n",
       "    </tr>\n",
       "    <tr>\n",
       "      <th>4</th>\n",
       "      <td>49.21</td>\n",
       "      <td>30.0</td>\n",
       "      <td>54324.73</td>\n",
       "      <td>201.58</td>\n",
       "      <td>Total 5thgeneration standardization</td>\n",
       "      <td>West Richard</td>\n",
       "      <td>Female</td>\n",
       "      <td>Qatar</td>\n",
       "      <td>2016-07-21 10:54:35</td>\n",
       "      <td>1</td>\n",
       "    </tr>\n",
       "    <tr>\n",
       "      <th>...</th>\n",
       "      <td>...</td>\n",
       "      <td>...</td>\n",
       "      <td>...</td>\n",
       "      <td>...</td>\n",
       "      <td>...</td>\n",
       "      <td>...</td>\n",
       "      <td>...</td>\n",
       "      <td>...</td>\n",
       "      <td>...</td>\n",
       "      <td>...</td>\n",
       "    </tr>\n",
       "    <tr>\n",
       "      <th>9995</th>\n",
       "      <td>41.73</td>\n",
       "      <td>31.0</td>\n",
       "      <td>61840.26</td>\n",
       "      <td>207.17</td>\n",
       "      <td>Profound executive flexibility</td>\n",
       "      <td>West Angelabury</td>\n",
       "      <td>Male</td>\n",
       "      <td>Singapore</td>\n",
       "      <td>2016-01-03 03:22:15</td>\n",
       "      <td>1</td>\n",
       "    </tr>\n",
       "    <tr>\n",
       "      <th>9996</th>\n",
       "      <td>41.73</td>\n",
       "      <td>28.0</td>\n",
       "      <td>51501.38</td>\n",
       "      <td>120.49</td>\n",
       "      <td>Managed zero tolerance concept</td>\n",
       "      <td>Kennedyfurt</td>\n",
       "      <td>Male</td>\n",
       "      <td>Luxembourg</td>\n",
       "      <td>2016-05-28 12:20:15</td>\n",
       "      <td>0</td>\n",
       "    </tr>\n",
       "    <tr>\n",
       "      <th>9997</th>\n",
       "      <td>55.60</td>\n",
       "      <td>39.0</td>\n",
       "      <td>38067.08</td>\n",
       "      <td>124.44</td>\n",
       "      <td>Intuitive exuding service-desk</td>\n",
       "      <td>North Randy</td>\n",
       "      <td>Female</td>\n",
       "      <td>Egypt</td>\n",
       "      <td>2016-01-05 11:53:17</td>\n",
       "      <td>0</td>\n",
       "    </tr>\n",
       "    <tr>\n",
       "      <th>9998</th>\n",
       "      <td>46.61</td>\n",
       "      <td>50.0</td>\n",
       "      <td>43974.49</td>\n",
       "      <td>123.13</td>\n",
       "      <td>Realigned content-based leverage</td>\n",
       "      <td>North Samantha</td>\n",
       "      <td>Female</td>\n",
       "      <td>Malawi</td>\n",
       "      <td>2016-04-04 07:07:46</td>\n",
       "      <td>1</td>\n",
       "    </tr>\n",
       "    <tr>\n",
       "      <th>9999</th>\n",
       "      <td>46.61</td>\n",
       "      <td>43.0</td>\n",
       "      <td>60575.99</td>\n",
       "      <td>198.45</td>\n",
       "      <td>Optimized upward-trending productivity</td>\n",
       "      <td>Port Jeffrey</td>\n",
       "      <td>Male</td>\n",
       "      <td>Northern Mariana Islands</td>\n",
       "      <td>2016-04-03 21:13:46</td>\n",
       "      <td>1</td>\n",
       "    </tr>\n",
       "  </tbody>\n",
       "</table>\n",
       "<p>10000 rows × 10 columns</p>\n",
       "</div>"
      ],
      "text/plain": [
       "      Daily Time Spent on Site   Age  Area Income  Daily Internet Usage  \\\n",
       "0                        62.26  32.0     69481.85                172.83   \n",
       "1                        41.73  31.0     61840.26                207.17   \n",
       "2                        44.40  30.0     57877.15                172.83   \n",
       "3                        59.88  28.0     56180.93                207.17   \n",
       "4                        49.21  30.0     54324.73                201.58   \n",
       "...                        ...   ...          ...                   ...   \n",
       "9995                     41.73  31.0     61840.26                207.17   \n",
       "9996                     41.73  28.0     51501.38                120.49   \n",
       "9997                     55.60  39.0     38067.08                124.44   \n",
       "9998                     46.61  50.0     43974.49                123.13   \n",
       "9999                     46.61  43.0     60575.99                198.45   \n",
       "\n",
       "                               Ad Topic Line             City  Gender  \\\n",
       "0            Decentralized real-time circuit         Lisafort    Male   \n",
       "1             Optional full-range projection  West Angelabury    Male   \n",
       "2        Total 5thgeneration standardization        Reyesfurt  Female   \n",
       "3                Balanced empowering success      New Michael  Female   \n",
       "4        Total 5thgeneration standardization     West Richard  Female   \n",
       "...                                      ...              ...     ...   \n",
       "9995          Profound executive flexibility  West Angelabury    Male   \n",
       "9996          Managed zero tolerance concept      Kennedyfurt    Male   \n",
       "9997          Intuitive exuding service-desk      North Randy  Female   \n",
       "9998        Realigned content-based leverage   North Samantha  Female   \n",
       "9999  Optimized upward-trending productivity     Port Jeffrey    Male   \n",
       "\n",
       "                           Country            Timestamp  Clicked on Ad  \n",
       "0     Svalbard & Jan Mayen Islands  2016-06-09 21:43:05              0  \n",
       "1                        Singapore  2016-01-16 17:56:05              0  \n",
       "2                       Guadeloupe  2016-06-29 10:50:45              0  \n",
       "3                           Zambia  2016-06-21 14:32:32              0  \n",
       "4                            Qatar  2016-07-21 10:54:35              1  \n",
       "...                            ...                  ...            ...  \n",
       "9995                     Singapore  2016-01-03 03:22:15              1  \n",
       "9996                    Luxembourg  2016-05-28 12:20:15              0  \n",
       "9997                         Egypt  2016-01-05 11:53:17              0  \n",
       "9998                        Malawi  2016-04-04 07:07:46              1  \n",
       "9999      Northern Mariana Islands  2016-04-03 21:13:46              1  \n",
       "\n",
       "[10000 rows x 10 columns]"
      ]
     },
     "execution_count": 39,
     "metadata": {},
     "output_type": "execute_result"
    }
   ],
   "source": [
    "df=pd.read_csv(\"ad_10000records.csv\")\n",
    "df"
   ]
  },
  {
   "cell_type": "code",
   "execution_count": 40,
   "id": "3145c3a9",
   "metadata": {},
   "outputs": [
    {
     "data": {
      "text/plain": [
       "(10000, 10)"
      ]
     },
     "execution_count": 40,
     "metadata": {},
     "output_type": "execute_result"
    }
   ],
   "source": [
    "df.shape"
   ]
  },
  {
   "cell_type": "code",
   "execution_count": 41,
   "id": "af3ae54d",
   "metadata": {},
   "outputs": [
    {
     "data": {
      "text/plain": [
       "Daily Time Spent on Site    0\n",
       "Age                         0\n",
       "Area Income                 0\n",
       "Daily Internet Usage        0\n",
       "Ad Topic Line               0\n",
       "City                        0\n",
       "Gender                      0\n",
       "Country                     0\n",
       "Timestamp                   0\n",
       "Clicked on Ad               0\n",
       "dtype: int64"
      ]
     },
     "execution_count": 41,
     "metadata": {},
     "output_type": "execute_result"
    }
   ],
   "source": [
    "df.isna().sum()"
   ]
  },
  {
   "cell_type": "code",
   "execution_count": 42,
   "id": "05bfb82e",
   "metadata": {},
   "outputs": [
    {
     "data": {
      "text/html": [
       "<div>\n",
       "<style scoped>\n",
       "    .dataframe tbody tr th:only-of-type {\n",
       "        vertical-align: middle;\n",
       "    }\n",
       "\n",
       "    .dataframe tbody tr th {\n",
       "        vertical-align: top;\n",
       "    }\n",
       "\n",
       "    .dataframe thead th {\n",
       "        text-align: right;\n",
       "    }\n",
       "</style>\n",
       "<table border=\"1\" class=\"dataframe\">\n",
       "  <thead>\n",
       "    <tr style=\"text-align: right;\">\n",
       "      <th></th>\n",
       "      <th>Daily Time Spent on Site</th>\n",
       "      <th>Age</th>\n",
       "      <th>Area Income</th>\n",
       "      <th>Daily Internet Usage</th>\n",
       "      <th>Clicked on Ad</th>\n",
       "    </tr>\n",
       "  </thead>\n",
       "  <tbody>\n",
       "    <tr>\n",
       "      <th>count</th>\n",
       "      <td>10000.000000</td>\n",
       "      <td>10000.000000</td>\n",
       "      <td>10000.000000</td>\n",
       "      <td>10000.000000</td>\n",
       "      <td>10000.000000</td>\n",
       "    </tr>\n",
       "    <tr>\n",
       "      <th>mean</th>\n",
       "      <td>61.660757</td>\n",
       "      <td>35.940100</td>\n",
       "      <td>53840.047721</td>\n",
       "      <td>177.759831</td>\n",
       "      <td>0.491700</td>\n",
       "    </tr>\n",
       "    <tr>\n",
       "      <th>std</th>\n",
       "      <td>15.704142</td>\n",
       "      <td>8.572973</td>\n",
       "      <td>13343.708718</td>\n",
       "      <td>40.820951</td>\n",
       "      <td>0.499956</td>\n",
       "    </tr>\n",
       "    <tr>\n",
       "      <th>min</th>\n",
       "      <td>32.600000</td>\n",
       "      <td>19.000000</td>\n",
       "      <td>13996.500000</td>\n",
       "      <td>105.220000</td>\n",
       "      <td>0.000000</td>\n",
       "    </tr>\n",
       "    <tr>\n",
       "      <th>25%</th>\n",
       "      <td>48.860000</td>\n",
       "      <td>29.000000</td>\n",
       "      <td>44052.302500</td>\n",
       "      <td>140.150000</td>\n",
       "      <td>0.000000</td>\n",
       "    </tr>\n",
       "    <tr>\n",
       "      <th>50%</th>\n",
       "      <td>59.590000</td>\n",
       "      <td>35.000000</td>\n",
       "      <td>56180.930000</td>\n",
       "      <td>178.920000</td>\n",
       "      <td>0.000000</td>\n",
       "    </tr>\n",
       "    <tr>\n",
       "      <th>75%</th>\n",
       "      <td>76.580000</td>\n",
       "      <td>42.000000</td>\n",
       "      <td>61840.260000</td>\n",
       "      <td>212.670000</td>\n",
       "      <td>1.000000</td>\n",
       "    </tr>\n",
       "    <tr>\n",
       "      <th>max</th>\n",
       "      <td>90.970000</td>\n",
       "      <td>60.000000</td>\n",
       "      <td>79332.330000</td>\n",
       "      <td>269.960000</td>\n",
       "      <td>1.000000</td>\n",
       "    </tr>\n",
       "  </tbody>\n",
       "</table>\n",
       "</div>"
      ],
      "text/plain": [
       "       Daily Time Spent on Site           Age   Area Income  \\\n",
       "count              10000.000000  10000.000000  10000.000000   \n",
       "mean                  61.660757     35.940100  53840.047721   \n",
       "std                   15.704142      8.572973  13343.708718   \n",
       "min                   32.600000     19.000000  13996.500000   \n",
       "25%                   48.860000     29.000000  44052.302500   \n",
       "50%                   59.590000     35.000000  56180.930000   \n",
       "75%                   76.580000     42.000000  61840.260000   \n",
       "max                   90.970000     60.000000  79332.330000   \n",
       "\n",
       "       Daily Internet Usage  Clicked on Ad  \n",
       "count          10000.000000   10000.000000  \n",
       "mean             177.759831       0.491700  \n",
       "std               40.820951       0.499956  \n",
       "min              105.220000       0.000000  \n",
       "25%              140.150000       0.000000  \n",
       "50%              178.920000       0.000000  \n",
       "75%              212.670000       1.000000  \n",
       "max              269.960000       1.000000  "
      ]
     },
     "execution_count": 42,
     "metadata": {},
     "output_type": "execute_result"
    }
   ],
   "source": [
    "df.describe()"
   ]
  },
  {
   "cell_type": "code",
   "execution_count": 43,
   "id": "98e7ea17",
   "metadata": {},
   "outputs": [
    {
     "data": {
      "text/plain": [
       "Daily Time Spent on Site    float64\n",
       "Age                         float64\n",
       "Area Income                 float64\n",
       "Daily Internet Usage        float64\n",
       "Ad Topic Line                object\n",
       "City                         object\n",
       "Gender                       object\n",
       "Country                      object\n",
       "Timestamp                    object\n",
       "Clicked on Ad                 int64\n",
       "dtype: object"
      ]
     },
     "execution_count": 43,
     "metadata": {},
     "output_type": "execute_result"
    }
   ],
   "source": [
    "df.dtypes"
   ]
  },
  {
   "cell_type": "code",
   "execution_count": 45,
   "id": "2a15d94a",
   "metadata": {},
   "outputs": [],
   "source": [
    "df[\"Clicked on Ad\"]=df[\"Clicked on Ad\"].map({1:\"Yes\",0:\"No\"})"
   ]
  },
  {
   "cell_type": "markdown",
   "id": "317dcf35",
   "metadata": {},
   "source": [
    "# Click Through Rate Analysis"
   ]
  },
  {
   "cell_type": "code",
   "execution_count": 46,
   "id": "3c159d22",
   "metadata": {},
   "outputs": [],
   "source": [
    "def boxplot_compare(df, col1):\n",
    "    plt.figure(figsize=(8, 6))    \n",
    "    sns.boxplot(x='Clicked on Ad', y=col1, data=df)\n",
    "    plt.title(f'Boxplot of {col1} by Clicked on Ad')\n",
    "    plt.xlabel('Clicked on Ad')\n",
    "    plt.ylabel(col1)\n",
    "    plt.show()"
   ]
  },
  {
   "cell_type": "code",
   "execution_count": 47,
   "id": "3551a2ee",
   "metadata": {},
   "outputs": [
    {
     "data": {
      "image/png": "[encoded data removed]",
      "text/plain": [
       "<Figure size 800x600 with 1 Axes>"
      ]
     },
     "metadata": {},
     "output_type": "display_data"
    }
   ],
   "source": [
    "boxplot_compare(df,\"Daily Time Spent on Site\")"
   ]
  },
  {
   "cell_type": "markdown",
   "id": "d2eef38b",
   "metadata": {},
   "source": [
    "From the above graph, we can see that the users who spend more time on the website click more on ads. "
   ]
  },
  {
   "cell_type": "code",
   "execution_count": 48,
   "id": "63aa5a11",
   "metadata": {},
   "outputs": [
    {
     "data": {
      "image/png": "[encoded data removed]",
      "text/plain": [
       "<Figure size 800x600 with 1 Axes>"
      ]
     },
     "metadata": {},
     "output_type": "display_data"
    }
   ],
   "source": [
    "boxplot_compare(df,\"Age\")"
   ]
  },
  {
   "cell_type": "markdown",
   "id": "49f0ddde",
   "metadata": {},
   "source": [
    "From the above graph, we can see that users around 40 years click more on ads compared to users around 27-36 years old."
   ]
  },
  {
   "cell_type": "code",
   "execution_count": 49,
   "id": "031ee8c9",
   "metadata": {},
   "outputs": [
    {
     "data": {
      "image/png": "[encoded data removed]",
      "text/plain": [
       "<Figure size 800x600 with 1 Axes>"
      ]
     },
     "metadata": {},
     "output_type": "display_data"
    }
   ],
   "source": [
    "boxplot_compare(df,\"Daily Internet Usage\")"
   ]
  },
  {
   "cell_type": "markdown",
   "id": "d0bd6643",
   "metadata": {},
   "source": [
    "From the above graph, we can see that the users with high internet usage click less on ads compared to the users with low internet usage. "
   ]
  },
  {
   "cell_type": "code",
   "execution_count": 50,
   "id": "b9773c72",
   "metadata": {},
   "outputs": [
    {
     "data": {
      "image/png": "[encoded data removed]",
      "text/plain": [
       "<Figure size 800x600 with 1 Axes>"
      ]
     },
     "metadata": {},
     "output_type": "display_data"
    }
   ],
   "source": [
    "boxplot_compare(df,\"Area Income\")"
   ]
  },
  {
   "cell_type": "markdown",
   "id": "e9946921",
   "metadata": {},
   "source": [
    "There’s not much difference, but people from high-income areas click less on ads."
   ]
  },
  {
   "cell_type": "code",
   "execution_count": 54,
   "id": "a353dc15",
   "metadata": {},
   "outputs": [
    {
     "data": {
      "text/html": [
       "<div>\n",
       "<style scoped>\n",
       "    .dataframe tbody tr th:only-of-type {\n",
       "        vertical-align: middle;\n",
       "    }\n",
       "\n",
       "    .dataframe tbody tr th {\n",
       "        vertical-align: top;\n",
       "    }\n",
       "\n",
       "    .dataframe thead th {\n",
       "        text-align: right;\n",
       "    }\n",
       "</style>\n",
       "<table border=\"1\" class=\"dataframe\">\n",
       "  <thead>\n",
       "    <tr style=\"text-align: right;\">\n",
       "      <th>Clicked on Ad</th>\n",
       "      <th>No</th>\n",
       "      <th>Yes</th>\n",
       "      <th>Gender CTR</th>\n",
       "    </tr>\n",
       "    <tr>\n",
       "      <th>Gender</th>\n",
       "      <th></th>\n",
       "      <th></th>\n",
       "      <th></th>\n",
       "    </tr>\n",
       "  </thead>\n",
       "  <tbody>\n",
       "    <tr>\n",
       "      <th>Female</th>\n",
       "      <td>2609</td>\n",
       "      <td>2767</td>\n",
       "      <td>51.469494</td>\n",
       "    </tr>\n",
       "    <tr>\n",
       "      <th>Male</th>\n",
       "      <td>2474</td>\n",
       "      <td>2150</td>\n",
       "      <td>46.496540</td>\n",
       "    </tr>\n",
       "  </tbody>\n",
       "</table>\n",
       "</div>"
      ],
      "text/plain": [
       "Clicked on Ad    No   Yes  Gender CTR\n",
       "Gender                               \n",
       "Female         2609  2767   51.469494\n",
       "Male           2474  2150   46.496540"
      ]
     },
     "execution_count": 54,
     "metadata": {},
     "output_type": "execute_result"
    }
   ],
   "source": [
    "a=pd.crosstab(df[\"Gender\"],df[\"Clicked on Ad\"])\n",
    "a[\"Gender CTR\"]=(a[\"Yes\"]/(a[\"Yes\"]+a[\"No\"]))*100\n",
    "a"
   ]
  },
  {
   "cell_type": "markdown",
   "id": "f5364f2b",
   "metadata": {},
   "source": [
    "We See that Female generelly Have a High CTR than Men(we know why :) )"
   ]
  },
  {
   "cell_type": "markdown",
   "id": "029911ba",
   "metadata": {},
   "source": [
    "# Calculating CTR of Ads"
   ]
  },
  {
   "cell_type": "markdown",
   "id": "70b88b3b",
   "metadata": {},
   "source": [
    "Now let’s calculate the overall Ads click-through rate. Here we need to calculate the ratio of users who clicked on the ad to users who left an impression on the ad. "
   ]
  },
  {
   "cell_type": "code",
   "execution_count": 60,
   "id": "14583a46",
   "metadata": {},
   "outputs": [
    {
     "name": "stdout",
     "output_type": "stream",
     "text": [
      "CTR is: 49.17\n"
     ]
    }
   ],
   "source": [
    "x=df[\"Clicked on Ad\"].value_counts()[1]\n",
    "ctr=(x/df.shape[0])*100\n",
    "print(\"CTR is:\",ctr)"
   ]
  },
  {
   "cell_type": "markdown",
   "id": "4f8534d5",
   "metadata": {},
   "source": [
    "# Click Through Rate Prediction Model"
   ]
  },
  {
   "cell_type": "markdown",
   "id": "d0cfd642",
   "metadata": {},
   "source": [
    "Now let’s move on to training a Machine Learning model to predict click-through rate. I’ll start by dividing the data into training and testing sets:"
   ]
  },
  {
   "cell_type": "code",
   "execution_count": 55,
   "id": "36f88a2e",
   "metadata": {},
   "outputs": [],
   "source": [
    "df[\"Gender\"] = df[\"Gender\"].map({\"Male\": 1, \n",
    "                               \"Female\": 0})\n",
    "\n",
    "x=df.iloc[:,0:7]\n",
    "x=x.drop(['Ad Topic Line','City'],axis=1)\n",
    "y=df.iloc[:,9]\n",
    "\n",
    "from sklearn.model_selection import train_test_split\n",
    "xtrain,xtest,ytrain,ytest=train_test_split(x,y,\n",
    "                                           test_size=0.2,\n",
    "                                           random_state=4)"
   ]
  },
  {
   "cell_type": "markdown",
   "id": "9aa66c45",
   "metadata": {},
   "source": [
    "Now let’s train the model using the random forecast classification algorithm:"
   ]
  },
  {
   "cell_type": "code",
   "execution_count": 56,
   "id": "973dfcdd",
   "metadata": {},
   "outputs": [
    {
     "data": {
      "text/html": [
       "<style>#sk-container-id-3 {color: black;background-color: white;}#sk-container-id-3 pre{padding: 0;}#sk-container-id-3 div.sk-toggleable {background-color: white;}#sk-container-id-3 label.sk-toggleable__label {cursor: pointer;display: block;width: 100%;margin-bottom: 0;padding: 0.3em;box-sizing: border-box;text-align: center;}#sk-container-id-3 label.sk-toggleable__label-arrow:before {content: \"▸\";float: left;margin-right: 0.25em;color: #696969;}#sk-container-id-3 label.sk-toggleable__label-arrow:hover:before {color: black;}#sk-container-id-3 div.sk-estimator:hover label.sk-toggleable__label-arrow:before {color: black;}#sk-container-id-3 div.sk-toggleable__content {max-height: 0;max-width: 0;overflow: hidden;text-align: left;background-color: #f0f8ff;}#sk-container-id-3 div.sk-toggleable__content pre {margin: 0.2em;color: black;border-radius: 0.25em;background-color: #f0f8ff;}#sk-container-id-3 input.sk-toggleable__control:checked~div.sk-toggleable__content {max-height: 200px;max-width: 100%;overflow: auto;}#sk-container-id-3 input.sk-toggleable__control:checked~label.sk-toggleable__label-arrow:before {content: \"▾\";}#sk-container-id-3 div.sk-estimator input.sk-toggleable__control:checked~label.sk-toggleable__label {background-color: #d4ebff;}#sk-container-id-3 div.sk-label input.sk-toggleable__control:checked~label.sk-toggleable__label {background-color: #d4ebff;}#sk-container-id-3 input.sk-hidden--visually {border: 0;clip: rect(1px 1px 1px 1px);clip: rect(1px, 1px, 1px, 1px);height: 1px;margin: -1px;overflow: hidden;padding: 0;position: absolute;width: 1px;}#sk-container-id-3 div.sk-estimator {font-family: monospace;background-color: #f0f8ff;border: 1px dotted black;border-radius: 0.25em;box-sizing: border-box;margin-bottom: 0.5em;}#sk-container-id-3 div.sk-estimator:hover {background-color: #d4ebff;}#sk-container-id-3 div.sk-parallel-item::after {content: \"\";width: 100%;border-bottom: 1px solid gray;flex-grow: 1;}#sk-container-id-3 div.sk-label:hover label.sk-toggleable__label {background-color: #d4ebff;}#sk-container-id-3 div.sk-serial::before {content: \"\";position: absolute;border-left: 1px solid gray;box-sizing: border-box;top: 0;bottom: 0;left: 50%;z-index: 0;}#sk-container-id-3 div.sk-serial {display: flex;flex-direction: column;align-items: center;background-color: white;padding-right: 0.2em;padding-left: 0.2em;position: relative;}#sk-container-id-3 div.sk-item {position: relative;z-index: 1;}#sk-container-id-3 div.sk-parallel {display: flex;align-items: stretch;justify-content: center;background-color: white;position: relative;}#sk-container-id-3 div.sk-item::before, #sk-container-id-3 div.sk-parallel-item::before {content: \"\";position: absolute;border-left: 1px solid gray;box-sizing: border-box;top: 0;bottom: 0;left: 50%;z-index: -1;}#sk-container-id-3 div.sk-parallel-item {display: flex;flex-direction: column;z-index: 1;position: relative;background-color: white;}#sk-container-id-3 div.sk-parallel-item:first-child::after {align-self: flex-end;width: 50%;}#sk-container-id-3 div.sk-parallel-item:last-child::after {align-self: flex-start;width: 50%;}#sk-container-id-3 div.sk-parallel-item:only-child::after {width: 0;}#sk-container-id-3 div.sk-dashed-wrapped {border: 1px dashed gray;margin: 0 0.4em 0.5em 0.4em;box-sizing: border-box;padding-bottom: 0.4em;background-color: white;}#sk-container-id-3 div.sk-label label {font-family: monospace;font-weight: bold;display: inline-block;line-height: 1.2em;}#sk-container-id-3 div.sk-label-container {text-align: center;}#sk-container-id-3 div.sk-container {/* jupyter's `normalize.less` sets `[hidden] { display: none; }` but bootstrap.min.css set `[hidden] { display: none !important; }` so we also need the `!important` here to be able to override the default hidden behavior on the sphinx rendered scikit-learn.org. See: https://github.com/scikit-learn/scikit-learn/issues/21755 */display: inline-block !important;position: relative;}#sk-container-id-3 div.sk-text-repr-fallback {display: none;}</style><div id=\"sk-container-id-3\" class=\"sk-top-container\"><div class=\"sk-text-repr-fallback\"><pre>RandomForestClassifier()</pre><b>In a Jupyter environment, please rerun this cell to show the HTML representation or trust the notebook. <br />On GitHub, the HTML representation is unable to render, please try loading this page with nbviewer.org.</b></div><div class=\"sk-container\" hidden><div class=\"sk-item\"><div class=\"sk-estimator sk-toggleable\"><input class=\"sk-toggleable__control sk-hidden--visually\" id=\"sk-estimator-id-3\" type=\"checkbox\" checked><label for=\"sk-estimator-id-3\" class=\"sk-toggleable__label sk-toggleable__label-arrow\">RandomForestClassifier</label><div class=\"sk-toggleable__content\"><pre>RandomForestClassifier()</pre></div></div></div></div></div>"
      ],
      "text/plain": [
       "RandomForestClassifier()"
      ]
     },
     "execution_count": 56,
     "metadata": {},
     "output_type": "execute_result"
    }
   ],
   "source": [
    "from sklearn.ensemble import RandomForestClassifier\n",
    "model = RandomForestClassifier()\n",
    "model.fit(x, y)"
   ]
  },
  {
   "cell_type": "markdown",
   "id": "aaf39188",
   "metadata": {},
   "source": [
    "Now let’s have a look at the accuracy of the model:"
   ]
  },
  {
   "cell_type": "code",
   "execution_count": 61,
   "id": "b8639136",
   "metadata": {},
   "outputs": [
    {
     "name": "stdout",
     "output_type": "stream",
     "text": [
      "The accuracy is:  95.7\n"
     ]
    }
   ],
   "source": [
    "from sklearn.metrics import accuracy_score\n",
    "y_pred=model.predict(xtest)\n",
    "print(\"The accuracy is: \",(accuracy_score(ytest,y_pred))*100)"
   ]
  },
  {
   "cell_type": "markdown",
   "id": "0d12023a",
   "metadata": {},
   "source": [
    "# Now let’s test the model by making predictions:"
   ]
  },
  {
   "cell_type": "code",
   "execution_count": 58,
   "id": "b9ffe8d8",
   "metadata": {},
   "outputs": [
    {
     "name": "stdout",
     "output_type": "stream",
     "text": [
      "Ads Click Through Rate Prediction : \n",
      "Daily Time Spent on Site: 70.20\n",
      "Age: 35\n",
      "Area Income: 40000\n",
      "Daily Internet Usage: 220\n",
      "Gender (Male = 1, Female = 0) : 1\n",
      "Will the user click on ad =  ['No']\n"
     ]
    },
    {
     "name": "stderr",
     "output_type": "stream",
     "text": [
      "C:\\ProgramData\\anaconda3\\lib\\site-packages\\sklearn\\base.py:420: UserWarning: X does not have valid feature names, but RandomForestClassifier was fitted with feature names\n",
      "  warnings.warn(\n"
     ]
    }
   ],
   "source": [
    "print(\"Ads Click Through Rate Prediction : \")\n",
    "a = float(input(\"Daily Time Spent on Site: \"))\n",
    "b = float(input(\"Age: \"))\n",
    "c = float(input(\"Area Income: \"))\n",
    "d = float(input(\"Daily Internet Usage: \"))\n",
    "e = input(\"Gender (Male = 1, Female = 0) : \")\n",
    "\n",
    "features = np.array([[a, b, c, d, e]])\n",
    "print(\"Will the user click on ad = \", model.predict(features))"
   ]
  },
  {
   "cell_type": "markdown",
   "id": "3314f6ca",
   "metadata": {},
   "source": [
    "# Summary"
   ]
  },
  {
   "cell_type": "markdown",
   "id": "b14811f0",
   "metadata": {},
   "source": [
    "Ads CTR means predicting whether the user will click on the ad. In this task, we need to train a Machine Learning model to find relationships between the characteristics of all the users who click on ads."
   ]
  }
 ],
 "metadata": {
  "kernelspec": {
   "display_name": "Python 3 (ipykernel)",
   "language": "python",
   "name": "python3"
  },
  "language_info": {
   "codemirror_mode": {
    "name": "ipython",
    "version": 3
   },
   "file_extension": ".py",
   "mimetype": "text/x-python",
   "name": "python",
   "nbconvert_exporter": "python",
   "pygments_lexer": "ipython3",
   "version": "3.10.9"
  }
 },
 "nbformat": 4,
 "nbformat_minor": 5
}
